{
 "cells": [
  {
   "cell_type": "markdown",
   "metadata": {
    "colab_type": "text",
    "id": "mYnLWWWArNkt"
   },
   "source": [
    "## **Codenation 2020**\n",
    "\n",
    "**Nome**: Camila Morais de Melo <br>\n",
    "**E-mail**: camila_moraismelo@hotmail.com \n",
    "\n",
    "**Desafio:** Descubra as melhores notas de matemática do ENEM 2016\n",
    "\n",
    "**Pontos de Atenção:** Muitas universidades brasileiras utilizam o ENEM para selecionar seus futuros alunos e alunas. Isto é feito com uma média ponderada das notas das provas de matemática, ciências da natureza, linguagens e códigos, ciências humanas e redação, com os pesos abaixo:\n",
    "\n",
    "* matemática: 3\n",
    "*ciências da natureza: 2\n",
    "*linguagens e códigos: 1.5\n",
    "*ciências humanas: 1\n",
    "*redação: 3\n",
    "\n",
    "No arquivo test.csv crie um modelo para prever nota da prova de matemática (coluna **NU_NOTA_MT**) de quem participou do ENEM 2016.\n",
    "\n",
    "Salve sua resposta em um arquivo chamado answer.csv com duas colunas: **NU_INSCRICAO** e **NU_NOTA_MT**.\n",
    "\n",
    "Faça o upload do arquivo answer.csv usando o botão “Submeter resposta”."
   ]
  },
  {
   "cell_type": "markdown",
   "metadata": {
    "colab_type": "text",
    "id": "LHR9m1Nxt42w"
   },
   "source": [
    "## **Setup**"
   ]
  },
  {
   "cell_type": "code",
   "execution_count": 29,
   "metadata": {
    "colab": {
     "base_uri": "https://localhost:8080/"
    },
    "colab_type": "code",
    "id": "94dcrfQOt8_r",
    "outputId": "11de0193-f615-4b77-e14e-786bd201104b"
   },
   "outputs": [],
   "source": [
    "# Pandas nos permite trabajar con DataFrames\n",
    "import pandas as pd\n",
    "# Para la visualización de datos\n",
    "import plotly.express as px\n",
    "import json\n",
    "import numpy as np\n",
    "import seaborn as sns\n",
    "import matplotlib.pyplot as plt\n",
    "\n",
    "# model\n",
    "from sklearn.impute import SimpleImputer\n",
    "from sklearn.metrics import accuracy_score\n",
    "from sklearn.model_selection import train_test_split\n",
    "from sklearn.ensemble import RandomForestClassifier,GradientBoostingClassifier ,VotingClassifier\n",
    "\n",
    "# roc curve and auc score\n",
    "from sklearn.metrics import roc_curve\n",
    "from sklearn.metrics import roc_auc_score\n",
    "from sklearn.preprocessing import LabelEncoder\n",
    "\n",
    "# show Colab Tables\n",
    "from IPython.display import display\n",
    "pd.set_option('display.max_columns', 100)\n",
    "pd.options.display.max_columns = 100\n",
    "\n",
    "#%matplotlib inline\n",
    "#%load_ext google.colab.data_table"
   ]
  },
  {
   "cell_type": "code",
   "execution_count": 0,
   "metadata": {
    "colab": {
     "base_uri": "https://localhost:8080/"
    },
    "colab_type": "code",
    "id": "8LOaIlM2sGop",
    "outputId": "c0a12c73-4ce7-495f-e0a2-d68326fd27ee"
   },
   "outputs": [
    {
     "name": "stdout",
     "output_type": "stream",
     "text": [
      "--2020-04-02 03:29:23--  https://s3-us-west-1.amazonaws.com/codenation-challenges/enem-ps/testfiles.zip\n",
      "Resolving s3-us-west-1.amazonaws.com (s3-us-west-1.amazonaws.com)... 52.219.112.136\n",
      "Connecting to s3-us-west-1.amazonaws.com (s3-us-west-1.amazonaws.com)|52.219.112.136|:443... connected.\n",
      "HTTP request sent, awaiting response... 200 OK\n",
      "Length: 2694015 (2.6M) [application/zip]\n",
      "Saving to: ‘testfiles.zip.1’\n",
      "\n",
      "testfiles.zip.1     100%[===================>]   2.57M  5.27MB/s    in 0.5s    \n",
      "\n",
      "2020-04-02 03:29:24 (5.27 MB/s) - ‘testfiles.zip.1’ saved [2694015/2694015]\n",
      "\n",
      "Archive:  testfiles.zip\n",
      "  inflating: test.csv                \n",
      "  inflating: README.md               \n",
      "  inflating: __MACOSX/._README.md    \n",
      "  inflating: train.csv               \n"
     ]
    }
   ],
   "source": [
    "#!wget https://s3-us-west-1.amazonaws.com/codenation-challenges/enem-ps/testfiles.zip\n",
    "#!unzip -o testfiles.zip"
   ]
  },
  {
   "cell_type": "code",
   "execution_count": 0,
   "metadata": {
    "colab": {
     "base_uri": "https://localhost:8080/"
    },
    "colab_type": "code",
    "id": "5kT1zr_ytRAp",
    "outputId": "31a924aa-acfd-4b30-ec63-56a3c5270130"
   },
   "outputs": [
    {
     "name": "stdout",
     "output_type": "stream",
     "text": [
      "__MACOSX   sample_data\ttestfiles.zip\t train.csv\n",
      "README.md  test.csv\ttestfiles.zip.1\n"
     ]
    }
   ],
   "source": [
    "!ls"
   ]
  },
  {
   "cell_type": "markdown",
   "metadata": {
    "colab_type": "text",
    "id": "eedK2l4EuH7F"
   },
   "source": [
    "## **Exploratório**"
   ]
  },
  {
   "cell_type": "code",
   "execution_count": 5,
   "metadata": {
    "colab": {},
    "colab_type": "code",
    "id": "vM9Qupe_JzLw"
   },
   "outputs": [],
   "source": [
    "## Funções\n",
    "def ler_arquivos(arquivo):\n",
    "  df = pd.read_csv(arquivo)  \n",
    "  print(\"Dimenções \",arquivo, \"(filas, columnas)  : \", df.shape)\n",
    "  return df\n",
    "\n",
    "def remover_valores(df,column):\n",
    "  df = df[(df[column].notnull())]\n",
    "  print(df.shape)\n",
    "  return df\n",
    "\n",
    "def missing_values(df_train,df_test):\n",
    "  percent_missing_train = df_train.isnull().sum() * 100 / len(df_train)\n",
    "  percent_missing_test = df_test.isnull().sum() * 100 / len(df_test)\n",
    "  missing_value_df = pd.DataFrame({'column_name': df_train.columns,\n",
    "                                  'percent_missing_train': percent_missing_train,\n",
    "                                  'percent_missing_test': percent_missing_test}).round(2)\n",
    "\n",
    "  missing_value_df.sort_values('percent_missing_train', inplace=True)\n",
    "  return missing_value_df"
   ]
  },
  {
   "cell_type": "code",
   "execution_count": 6,
   "metadata": {
    "colab": {
     "base_uri": "https://localhost:8080/"
    },
    "colab_type": "code",
    "id": "_29kfXdFulFy",
    "outputId": "a004b413-99e2-494c-892a-c2f0130c405b"
   },
   "outputs": [
    {
     "name": "stdout",
     "output_type": "stream",
     "text": [
      "('Dimen\\xc3\\xa7\\xc3\\xb5es ', 'train.csv', '(filas, columnas)  : ', (13730, 167))\n",
      "('Dimen\\xc3\\xa7\\xc3\\xb5es ', 'test.csv', '(filas, columnas)  : ', (4576, 47))\n"
     ]
    }
   ],
   "source": [
    "#Importa os dataframes e apresenta as dimenções \n",
    "df_training = ler_arquivos('train.csv')\n",
    "df_test = ler_arquivos('test.csv')"
   ]
  },
  {
   "cell_type": "code",
   "execution_count": 7,
   "metadata": {
    "colab": {
     "base_uri": "https://localhost:8080/"
    },
    "colab_type": "code",
    "id": "zE0rWkfPyOCz",
    "outputId": "2d6f3c15-6f6a-4cd6-ccf0-657d964219e9"
   },
   "outputs": [
    {
     "name": "stdout",
     "output_type": "stream",
     "text": [
      "(13730, 48)\n",
      "(4576, 47)\n"
     ]
    }
   ],
   "source": [
    "#Manter apenas as colunas existentes no modelo de teste\n",
    "#Neste caso fiz isso pois as dimenções eram diferentes\n",
    "col = df_test.columns\n",
    "#Acrescenta a variavel target\n",
    "col = col.append(pd.Index([\"NU_NOTA_MT\"]))\n",
    "\n",
    "df_training = df_training.filter(col)\n",
    "print(df_training.shape)\n",
    "print(df_test.shape)"
   ]
  },
  {
   "cell_type": "code",
   "execution_count": 8,
   "metadata": {
    "colab": {
     "base_uri": "https://localhost:8080/"
    },
    "colab_type": "code",
    "id": "FSJTP_8gu--m",
    "outputId": "57cbdf2e-8717-4394-c120-e08c4edc4c7e"
   },
   "outputs": [
    {
     "data": {
      "text/plain": [
       "['Q025',\n",
       " 'Q024',\n",
       " 'Q026',\n",
       " 'Q047',\n",
       " 'CO_PROVA_MT',\n",
       " 'Q027',\n",
       " 'CO_PROVA_CN',\n",
       " 'Q006',\n",
       " 'Q002',\n",
       " 'SG_UF_RESIDENCIA',\n",
       " 'Q001',\n",
       " 'CO_PROVA_LC',\n",
       " 'NU_INSCRICAO',\n",
       " 'CO_PROVA_CH',\n",
       " 'TP_SEXO']"
      ]
     },
     "execution_count": 8,
     "metadata": {},
     "output_type": "execute_result"
    }
   ],
   "source": [
    "cat_var = [key for key in dict(df_training.dtypes)\n",
    "             if dict(df_training.dtypes)[key] in ['object'] ]\n",
    "\n",
    "cat_var"
   ]
  },
  {
   "cell_type": "code",
   "execution_count": 9,
   "metadata": {
    "colab": {
     "base_uri": "https://localhost:8080/"
    },
    "colab_type": "code",
    "id": "xSWDN-ZjvN3O",
    "outputId": "2222e164-ccf4-4ca0-ed02-78714321b9ff"
   },
   "outputs": [
    {
     "name": "stderr",
     "output_type": "stream",
     "text": [
      "C:\\ProgramData\\Anaconda2\\lib\\site-packages\\pandas\\core\\series.py:1999: RuntimeWarning:\n",
      "\n",
      "invalid value encountered in rint\n",
      "\n"
     ]
    },
    {
     "data": {
      "text/html": [
       "<div>\n",
       "<style scoped>\n",
       "    .dataframe tbody tr th:only-of-type {\n",
       "        vertical-align: middle;\n",
       "    }\n",
       "\n",
       "    .dataframe tbody tr th {\n",
       "        vertical-align: top;\n",
       "    }\n",
       "\n",
       "    .dataframe thead th {\n",
       "        text-align: right;\n",
       "    }\n",
       "</style>\n",
       "<table border=\"1\" class=\"dataframe\">\n",
       "  <thead>\n",
       "    <tr style=\"text-align: right;\">\n",
       "      <th></th>\n",
       "      <th>column_name</th>\n",
       "      <th>percent_missing_test</th>\n",
       "      <th>percent_missing_train</th>\n",
       "    </tr>\n",
       "  </thead>\n",
       "  <tbody>\n",
       "    <tr>\n",
       "      <th>CO_PROVA_CH</th>\n",
       "      <td>NU_INSCRICAO</td>\n",
       "      <td>0.00</td>\n",
       "      <td>0.00</td>\n",
       "    </tr>\n",
       "    <tr>\n",
       "      <th>Q006</th>\n",
       "      <td>NU_NOTA_CN</td>\n",
       "      <td>0.00</td>\n",
       "      <td>0.00</td>\n",
       "    </tr>\n",
       "    <tr>\n",
       "      <th>Q024</th>\n",
       "      <td>NU_NOTA_CH</td>\n",
       "      <td>0.00</td>\n",
       "      <td>0.00</td>\n",
       "    </tr>\n",
       "    <tr>\n",
       "      <th>Q025</th>\n",
       "      <td>NU_NOTA_LC</td>\n",
       "      <td>0.00</td>\n",
       "      <td>0.00</td>\n",
       "    </tr>\n",
       "    <tr>\n",
       "      <th>Q026</th>\n",
       "      <td>TP_LINGUA</td>\n",
       "      <td>0.00</td>\n",
       "      <td>0.00</td>\n",
       "    </tr>\n",
       "    <tr>\n",
       "      <th>Q047</th>\n",
       "      <td>NU_NOTA_COMP1</td>\n",
       "      <td>0.00</td>\n",
       "      <td>0.00</td>\n",
       "    </tr>\n",
       "    <tr>\n",
       "      <th>SG_UF_RESIDENCIA</th>\n",
       "      <td>NU_NOTA_COMP2</td>\n",
       "      <td>0.00</td>\n",
       "      <td>0.00</td>\n",
       "    </tr>\n",
       "    <tr>\n",
       "      <th>TP_ANO_CONCLUIU</th>\n",
       "      <td>NU_NOTA_COMP3</td>\n",
       "      <td>0.00</td>\n",
       "      <td>0.00</td>\n",
       "    </tr>\n",
       "    <tr>\n",
       "      <th>TP_COR_RACA</th>\n",
       "      <td>NU_NOTA_COMP4</td>\n",
       "      <td>0.00</td>\n",
       "      <td>0.00</td>\n",
       "    </tr>\n",
       "    <tr>\n",
       "      <th>TP_ESCOLA</th>\n",
       "      <td>Q001</td>\n",
       "      <td>0.00</td>\n",
       "      <td>0.00</td>\n",
       "    </tr>\n",
       "    <tr>\n",
       "      <th>TP_LINGUA</th>\n",
       "      <td>Q002</td>\n",
       "      <td>0.00</td>\n",
       "      <td>0.00</td>\n",
       "    </tr>\n",
       "    <tr>\n",
       "      <th>TP_NACIONALIDADE</th>\n",
       "      <td>Q006</td>\n",
       "      <td>0.00</td>\n",
       "      <td>0.00</td>\n",
       "    </tr>\n",
       "    <tr>\n",
       "      <th>TP_PRESENCA_CH</th>\n",
       "      <td>Q024</td>\n",
       "      <td>0.00</td>\n",
       "      <td>0.00</td>\n",
       "    </tr>\n",
       "    <tr>\n",
       "      <th>TP_PRESENCA_CN</th>\n",
       "      <td>Q025</td>\n",
       "      <td>0.00</td>\n",
       "      <td>0.00</td>\n",
       "    </tr>\n",
       "    <tr>\n",
       "      <th>TP_PRESENCA_LC</th>\n",
       "      <td>Q026</td>\n",
       "      <td>0.00</td>\n",
       "      <td>0.00</td>\n",
       "    </tr>\n",
       "    <tr>\n",
       "      <th>TP_SEXO</th>\n",
       "      <td>Q027</td>\n",
       "      <td>0.00</td>\n",
       "      <td>0.00</td>\n",
       "    </tr>\n",
       "    <tr>\n",
       "      <th>Q002</th>\n",
       "      <td>CO_PROVA_MT</td>\n",
       "      <td>0.00</td>\n",
       "      <td>0.00</td>\n",
       "    </tr>\n",
       "    <tr>\n",
       "      <th>Q001</th>\n",
       "      <td>CO_PROVA_LC</td>\n",
       "      <td>0.00</td>\n",
       "      <td>0.00</td>\n",
       "    </tr>\n",
       "    <tr>\n",
       "      <th>TP_ST_CONCLUSAO</th>\n",
       "      <td>NU_NOTA_MT</td>\n",
       "      <td>0.00</td>\n",
       "      <td>0.00</td>\n",
       "    </tr>\n",
       "    <tr>\n",
       "      <th>IN_SABATISTA</th>\n",
       "      <td>IN_TREINEIRO</td>\n",
       "      <td>0.00</td>\n",
       "      <td>0.00</td>\n",
       "    </tr>\n",
       "    <tr>\n",
       "      <th>IN_DISLEXIA</th>\n",
       "      <td>TP_ANO_CONCLUIU</td>\n",
       "      <td>0.00</td>\n",
       "      <td>0.00</td>\n",
       "    </tr>\n",
       "    <tr>\n",
       "      <th>IN_DISCALCULIA</th>\n",
       "      <td>TP_ST_CONCLUSAO</td>\n",
       "      <td>0.00</td>\n",
       "      <td>0.00</td>\n",
       "    </tr>\n",
       "    <tr>\n",
       "      <th>IN_SURDEZ</th>\n",
       "      <td>TP_DEPENDENCIA_ADM_ESC</td>\n",
       "      <td>0.00</td>\n",
       "      <td>0.00</td>\n",
       "    </tr>\n",
       "    <tr>\n",
       "      <th>IN_TREINEIRO</th>\n",
       "      <td>IN_BAIXA_VISAO</td>\n",
       "      <td>0.00</td>\n",
       "      <td>0.00</td>\n",
       "    </tr>\n",
       "    <tr>\n",
       "      <th>NU_IDADE</th>\n",
       "      <td>IN_CEGUEIRA</td>\n",
       "      <td>0.00</td>\n",
       "      <td>0.00</td>\n",
       "    </tr>\n",
       "    <tr>\n",
       "      <th>NU_INSCRICAO</th>\n",
       "      <td>IN_SURDEZ</td>\n",
       "      <td>0.00</td>\n",
       "      <td>0.00</td>\n",
       "    </tr>\n",
       "    <tr>\n",
       "      <th>IN_IDOSO</th>\n",
       "      <td>TP_ENSINO</td>\n",
       "      <td>0.00</td>\n",
       "      <td>0.00</td>\n",
       "    </tr>\n",
       "    <tr>\n",
       "      <th>IN_GESTANTE</th>\n",
       "      <td>TP_ESCOLA</td>\n",
       "      <td>0.00</td>\n",
       "      <td>0.00</td>\n",
       "    </tr>\n",
       "    <tr>\n",
       "      <th>IN_CEGUEIRA</th>\n",
       "      <td>TP_NACIONALIDADE</td>\n",
       "      <td>0.00</td>\n",
       "      <td>0.00</td>\n",
       "    </tr>\n",
       "    <tr>\n",
       "      <th>IN_BAIXA_VISAO</th>\n",
       "      <td>TP_COR_RACA</td>\n",
       "      <td>0.00</td>\n",
       "      <td>0.00</td>\n",
       "    </tr>\n",
       "    <tr>\n",
       "      <th>CO_UF_RESIDENCIA</th>\n",
       "      <td>TP_SEXO</td>\n",
       "      <td>0.00</td>\n",
       "      <td>0.00</td>\n",
       "    </tr>\n",
       "    <tr>\n",
       "      <th>CO_PROVA_MT</th>\n",
       "      <td>NU_IDADE</td>\n",
       "      <td>0.00</td>\n",
       "      <td>0.00</td>\n",
       "    </tr>\n",
       "    <tr>\n",
       "      <th>CO_PROVA_LC</th>\n",
       "      <td>SG_UF_RESIDENCIA</td>\n",
       "      <td>0.00</td>\n",
       "      <td>0.00</td>\n",
       "    </tr>\n",
       "    <tr>\n",
       "      <th>CO_PROVA_CN</th>\n",
       "      <td>CO_UF_RESIDENCIA</td>\n",
       "      <td>0.00</td>\n",
       "      <td>0.00</td>\n",
       "    </tr>\n",
       "    <tr>\n",
       "      <th>NU_NOTA_CN</th>\n",
       "      <td>IN_DISCALCULIA</td>\n",
       "      <td>24.78</td>\n",
       "      <td>24.68</td>\n",
       "    </tr>\n",
       "    <tr>\n",
       "      <th>NU_NOTA_CH</th>\n",
       "      <td>IN_DISLEXIA</td>\n",
       "      <td>24.78</td>\n",
       "      <td>24.68</td>\n",
       "    </tr>\n",
       "    <tr>\n",
       "      <th>NU_NOTA_COMP2</th>\n",
       "      <td>IN_GESTANTE</td>\n",
       "      <td>26.20</td>\n",
       "      <td>26.20</td>\n",
       "    </tr>\n",
       "    <tr>\n",
       "      <th>NU_NOTA_REDACAO</th>\n",
       "      <td>CO_PROVA_CH</td>\n",
       "      <td>26.20</td>\n",
       "      <td>26.20</td>\n",
       "    </tr>\n",
       "    <tr>\n",
       "      <th>NU_NOTA_MT</th>\n",
       "      <td>CO_PROVA_CN</td>\n",
       "      <td>NaN</td>\n",
       "      <td>26.20</td>\n",
       "    </tr>\n",
       "    <tr>\n",
       "      <th>TP_STATUS_REDACAO</th>\n",
       "      <td>Q047</td>\n",
       "      <td>26.20</td>\n",
       "      <td>26.20</td>\n",
       "    </tr>\n",
       "    <tr>\n",
       "      <th>NU_NOTA_COMP5</th>\n",
       "      <td>TP_PRESENCA_CH</td>\n",
       "      <td>26.20</td>\n",
       "      <td>26.20</td>\n",
       "    </tr>\n",
       "    <tr>\n",
       "      <th>NU_NOTA_COMP4</th>\n",
       "      <td>TP_PRESENCA_CN</td>\n",
       "      <td>26.20</td>\n",
       "      <td>26.20</td>\n",
       "    </tr>\n",
       "    <tr>\n",
       "      <th>NU_NOTA_COMP3</th>\n",
       "      <td>IN_IDOSO</td>\n",
       "      <td>26.20</td>\n",
       "      <td>26.20</td>\n",
       "    </tr>\n",
       "    <tr>\n",
       "      <th>NU_NOTA_COMP1</th>\n",
       "      <td>IN_SABATISTA</td>\n",
       "      <td>26.20</td>\n",
       "      <td>26.20</td>\n",
       "    </tr>\n",
       "    <tr>\n",
       "      <th>NU_NOTA_LC</th>\n",
       "      <td>TP_PRESENCA_LC</td>\n",
       "      <td>26.20</td>\n",
       "      <td>26.20</td>\n",
       "    </tr>\n",
       "    <tr>\n",
       "      <th>Q027</th>\n",
       "      <td>TP_STATUS_REDACAO</td>\n",
       "      <td>54.37</td>\n",
       "      <td>53.70</td>\n",
       "    </tr>\n",
       "    <tr>\n",
       "      <th>TP_DEPENDENCIA_ADM_ESC</th>\n",
       "      <td>NU_NOTA_COMP5</td>\n",
       "      <td>67.66</td>\n",
       "      <td>68.81</td>\n",
       "    </tr>\n",
       "    <tr>\n",
       "      <th>TP_ENSINO</th>\n",
       "      <td>NU_NOTA_REDACAO</td>\n",
       "      <td>67.66</td>\n",
       "      <td>68.81</td>\n",
       "    </tr>\n",
       "  </tbody>\n",
       "</table>\n",
       "</div>"
      ],
      "text/plain": [
       "                                   column_name  percent_missing_test  \\\n",
       "CO_PROVA_CH                       NU_INSCRICAO                  0.00   \n",
       "Q006                                NU_NOTA_CN                  0.00   \n",
       "Q024                                NU_NOTA_CH                  0.00   \n",
       "Q025                                NU_NOTA_LC                  0.00   \n",
       "Q026                                 TP_LINGUA                  0.00   \n",
       "Q047                             NU_NOTA_COMP1                  0.00   \n",
       "SG_UF_RESIDENCIA                 NU_NOTA_COMP2                  0.00   \n",
       "TP_ANO_CONCLUIU                  NU_NOTA_COMP3                  0.00   \n",
       "TP_COR_RACA                      NU_NOTA_COMP4                  0.00   \n",
       "TP_ESCOLA                                 Q001                  0.00   \n",
       "TP_LINGUA                                 Q002                  0.00   \n",
       "TP_NACIONALIDADE                          Q006                  0.00   \n",
       "TP_PRESENCA_CH                            Q024                  0.00   \n",
       "TP_PRESENCA_CN                            Q025                  0.00   \n",
       "TP_PRESENCA_LC                            Q026                  0.00   \n",
       "TP_SEXO                                   Q027                  0.00   \n",
       "Q002                               CO_PROVA_MT                  0.00   \n",
       "Q001                               CO_PROVA_LC                  0.00   \n",
       "TP_ST_CONCLUSAO                     NU_NOTA_MT                  0.00   \n",
       "IN_SABATISTA                      IN_TREINEIRO                  0.00   \n",
       "IN_DISLEXIA                    TP_ANO_CONCLUIU                  0.00   \n",
       "IN_DISCALCULIA                 TP_ST_CONCLUSAO                  0.00   \n",
       "IN_SURDEZ               TP_DEPENDENCIA_ADM_ESC                  0.00   \n",
       "IN_TREINEIRO                    IN_BAIXA_VISAO                  0.00   \n",
       "NU_IDADE                           IN_CEGUEIRA                  0.00   \n",
       "NU_INSCRICAO                         IN_SURDEZ                  0.00   \n",
       "IN_IDOSO                             TP_ENSINO                  0.00   \n",
       "IN_GESTANTE                          TP_ESCOLA                  0.00   \n",
       "IN_CEGUEIRA                   TP_NACIONALIDADE                  0.00   \n",
       "IN_BAIXA_VISAO                     TP_COR_RACA                  0.00   \n",
       "CO_UF_RESIDENCIA                       TP_SEXO                  0.00   \n",
       "CO_PROVA_MT                           NU_IDADE                  0.00   \n",
       "CO_PROVA_LC                   SG_UF_RESIDENCIA                  0.00   \n",
       "CO_PROVA_CN                   CO_UF_RESIDENCIA                  0.00   \n",
       "NU_NOTA_CN                      IN_DISCALCULIA                 24.78   \n",
       "NU_NOTA_CH                         IN_DISLEXIA                 24.78   \n",
       "NU_NOTA_COMP2                      IN_GESTANTE                 26.20   \n",
       "NU_NOTA_REDACAO                    CO_PROVA_CH                 26.20   \n",
       "NU_NOTA_MT                         CO_PROVA_CN                   NaN   \n",
       "TP_STATUS_REDACAO                         Q047                 26.20   \n",
       "NU_NOTA_COMP5                   TP_PRESENCA_CH                 26.20   \n",
       "NU_NOTA_COMP4                   TP_PRESENCA_CN                 26.20   \n",
       "NU_NOTA_COMP3                         IN_IDOSO                 26.20   \n",
       "NU_NOTA_COMP1                     IN_SABATISTA                 26.20   \n",
       "NU_NOTA_LC                      TP_PRESENCA_LC                 26.20   \n",
       "Q027                         TP_STATUS_REDACAO                 54.37   \n",
       "TP_DEPENDENCIA_ADM_ESC           NU_NOTA_COMP5                 67.66   \n",
       "TP_ENSINO                      NU_NOTA_REDACAO                 67.66   \n",
       "\n",
       "                        percent_missing_train  \n",
       "CO_PROVA_CH                              0.00  \n",
       "Q006                                     0.00  \n",
       "Q024                                     0.00  \n",
       "Q025                                     0.00  \n",
       "Q026                                     0.00  \n",
       "Q047                                     0.00  \n",
       "SG_UF_RESIDENCIA                         0.00  \n",
       "TP_ANO_CONCLUIU                          0.00  \n",
       "TP_COR_RACA                              0.00  \n",
       "TP_ESCOLA                                0.00  \n",
       "TP_LINGUA                                0.00  \n",
       "TP_NACIONALIDADE                         0.00  \n",
       "TP_PRESENCA_CH                           0.00  \n",
       "TP_PRESENCA_CN                           0.00  \n",
       "TP_PRESENCA_LC                           0.00  \n",
       "TP_SEXO                                  0.00  \n",
       "Q002                                     0.00  \n",
       "Q001                                     0.00  \n",
       "TP_ST_CONCLUSAO                          0.00  \n",
       "IN_SABATISTA                             0.00  \n",
       "IN_DISLEXIA                              0.00  \n",
       "IN_DISCALCULIA                           0.00  \n",
       "IN_SURDEZ                                0.00  \n",
       "IN_TREINEIRO                             0.00  \n",
       "NU_IDADE                                 0.00  \n",
       "NU_INSCRICAO                             0.00  \n",
       "IN_IDOSO                                 0.00  \n",
       "IN_GESTANTE                              0.00  \n",
       "IN_CEGUEIRA                              0.00  \n",
       "IN_BAIXA_VISAO                           0.00  \n",
       "CO_UF_RESIDENCIA                         0.00  \n",
       "CO_PROVA_MT                              0.00  \n",
       "CO_PROVA_LC                              0.00  \n",
       "CO_PROVA_CN                              0.00  \n",
       "NU_NOTA_CN                              24.68  \n",
       "NU_NOTA_CH                              24.68  \n",
       "NU_NOTA_COMP2                           26.20  \n",
       "NU_NOTA_REDACAO                         26.20  \n",
       "NU_NOTA_MT                              26.20  \n",
       "TP_STATUS_REDACAO                       26.20  \n",
       "NU_NOTA_COMP5                           26.20  \n",
       "NU_NOTA_COMP4                           26.20  \n",
       "NU_NOTA_COMP3                           26.20  \n",
       "NU_NOTA_COMP1                           26.20  \n",
       "NU_NOTA_LC                              26.20  \n",
       "Q027                                    53.70  \n",
       "TP_DEPENDENCIA_ADM_ESC                  68.81  \n",
       "TP_ENSINO                               68.81  "
      ]
     },
     "execution_count": 9,
     "metadata": {},
     "output_type": "execute_result"
    }
   ],
   "source": [
    "ms = missing_values(df_training,df_test)\n",
    "ms"
   ]
  },
  {
   "cell_type": "code",
   "execution_count": 11,
   "metadata": {
    "colab": {},
    "colab_type": "code",
    "id": "OPT37cG165qY"
   },
   "outputs": [],
   "source": [
    "#Transforma features categoricas em numericas\n",
    "lb_make = LabelEncoder()\n",
    "df_training[\"Q001\"] = lb_make.fit_transform(df_training[\"Q001\"])\n",
    "df_test[\"Q001\"] = lb_make.transform(df_test[\"Q001\"])\n",
    "\n",
    "lb_make = LabelEncoder()\n",
    "df_training[\"Q002\"] = lb_make.fit_transform(df_training[\"Q002\"])\n",
    "df_test[\"Q002\"] = lb_make.transform(df_test[\"Q002\"])\n",
    "\n",
    "lb_make = LabelEncoder()\n",
    "df_training[\"Q006\"] = lb_make.fit_transform(df_training[\"Q006\"])\n",
    "df_test[\"Q006\"] = lb_make.transform(df_test[\"Q006\"])\n",
    "\n",
    "lb_make = LabelEncoder()\n",
    "df_training[\"Q024\"] = lb_make.fit_transform(df_training[\"Q024\"])\n",
    "df_test[\"Q024\"] = lb_make.transform(df_test[\"Q024\"])\n",
    "\n",
    "lb_make = LabelEncoder()\n",
    "df_training[\"Q025\"] = lb_make.fit_transform(df_training[\"Q025\"])\n",
    "df_test[\"Q025\"] = lb_make.transform(df_test[\"Q025\"])\n",
    "\n",
    "lb_make = LabelEncoder()\n",
    "df_training[\"Q026\"] = lb_make.fit_transform(df_training[\"Q026\"])\n",
    "df_test[\"Q026\"] = lb_make.transform(df_test[\"Q026\"])\n",
    "\n",
    "lb_make = LabelEncoder()\n",
    "df_training[\"Q047\"] = lb_make.fit_transform(df_training[\"Q047\"])\n",
    "df_test[\"Q047\"] = lb_make.transform(df_test[\"Q047\"])\n",
    "\n",
    "lb_make = LabelEncoder()\n",
    "df_training[\"TP_SEXO\"] = lb_make.fit_transform(df_training[\"TP_SEXO\"])\n",
    "df_test[\"TP_SEXO\"] = lb_make.transform(df_test[\"TP_SEXO\"])\n",
    "\n",
    "lb_make = LabelEncoder()\n",
    "df_training[\"SG_UF_RESIDENCIA\"] = lb_make.fit_transform(df_training[\"SG_UF_RESIDENCIA\"])\n",
    "df_test[\"SG_UF_RESIDENCIA\"] = lb_make.transform(df_test[\"SG_UF_RESIDENCIA\"])\n",
    "\n",
    "lb_make = LabelEncoder()\n",
    "df_training[\"CO_PROVA_CN\"] = lb_make.fit_transform(df_training[\"CO_PROVA_CN\"])\n",
    "df_test[\"CO_PROVA_CN\"] = lb_make.transform(df_test[\"CO_PROVA_CN\"])\n",
    "\n",
    "lb_make = LabelEncoder()\n",
    "df_training[\"CO_PROVA_CH\"] = lb_make.fit_transform(df_training[\"CO_PROVA_CH\"])\n",
    "df_test[\"CO_PROVA_CH\"] = lb_make.transform(df_test[\"CO_PROVA_CH\"])\n",
    "\n",
    "lb_make = LabelEncoder()\n",
    "df_training[\"CO_PROVA_LC\"] = lb_make.fit_transform(df_training[\"CO_PROVA_LC\"])\n",
    "df_test[\"CO_PROVA_LC\"] = lb_make.transform(df_test[\"CO_PROVA_LC\"])\n",
    "\n",
    "lb_make = LabelEncoder()\n",
    "df_training[\"CO_PROVA_MT\"] = lb_make.fit_transform(df_training[\"CO_PROVA_MT\"])\n",
    "df_test[\"CO_PROVA_MT\"] = lb_make.transform(df_test[\"CO_PROVA_MT\"])"
   ]
  },
  {
   "cell_type": "code",
   "execution_count": 12,
   "metadata": {
    "colab": {},
    "colab_type": "code",
    "id": "ngFnYcOS_HGl"
   },
   "outputs": [],
   "source": [
    "#Cria valor NA para P:Com que idade você começou a exercer uma atividade remunerada?\n",
    "df_training['Q027'] = df_training.Q027.fillna(\"NA\")\n",
    "df_test['Q027'] = df_test.Q027.fillna(\"NA\")\n",
    "\n",
    "lb_make = LabelEncoder()\n",
    "df_training[\"Q027\"] = lb_make.fit_transform(df_training[\"Q027\"])\n",
    "df_test[\"Q027\"] = lb_make.transform(df_test[\"Q027\"])"
   ]
  },
  {
   "cell_type": "code",
   "execution_count": 13,
   "metadata": {
    "colab": {
     "base_uri": "https://localhost:8080/"
    },
    "colab_type": "code",
    "id": "wyGbqFybLc5e",
    "outputId": "a58d8580-bf4b-4dee-d3f9-a98157e6fa04"
   },
   "outputs": [
    {
     "data": {
      "text/plain": [
       "array([ 7, -1,  5,  4, 12,  2,  3,  1,  9,  0,  8,  6, 10, 11],\n",
       "      dtype=int64)"
      ]
     },
     "execution_count": 13,
     "metadata": {},
     "output_type": "execute_result"
    }
   ],
   "source": [
    "#Substitui o NA por um valor negativo\n",
    "df_training['Q027'] = df_training.Q027.replace(to_replace=13,value=-1)\n",
    "df_test['Q027'] = df_test.Q027.replace(to_replace=13,value=-1)\n",
    "\n",
    "df_training.Q027.unique()"
   ]
  },
  {
   "cell_type": "code",
   "execution_count": 14,
   "metadata": {
    "colab": {
     "base_uri": "https://localhost:8080/"
    },
    "colab_type": "code",
    "id": "kN-DfHDG-snH",
    "outputId": "2cf35984-4d0d-4b52-f5f4-36899afda25c"
   },
   "outputs": [
    {
     "name": "stdout",
     "output_type": "stream",
     "text": [
      "['NU_INSCRICAO']\n"
     ]
    }
   ],
   "source": [
    "cat_var = [key for key in dict(df_training.dtypes)\n",
    "             if dict(df_training.dtypes)[key] in ['object'] ]\n",
    "\n",
    "print(cat_var)"
   ]
  },
  {
   "cell_type": "markdown",
   "metadata": {
    "colab_type": "text",
    "id": "zS-q8dmSNcXb"
   },
   "source": [
    "## **Tratamento dos nulos e enriquecimento dos dados**"
   ]
  },
  {
   "cell_type": "code",
   "execution_count": 15,
   "metadata": {
    "colab": {
     "base_uri": "https://localhost:8080/",
     "height": 86
    },
    "colab_type": "code",
    "id": "DhvsI4xLOTdR",
    "outputId": "975e0c5e-4ecf-4eb1-856b-a2eaf0362416"
   },
   "outputs": [
    {
     "data": {
      "text/plain": [
       "1.0    0.907520\n",
       "3.0    0.086408\n",
       "2.0    0.006072\n",
       "Name: TP_ENSINO, dtype: float64"
      ]
     },
     "execution_count": 15,
     "metadata": {},
     "output_type": "execute_result"
    }
   ],
   "source": [
    "df_training.TP_ENSINO.value_counts(normalize=True)"
   ]
  },
  {
   "cell_type": "code",
   "execution_count": 16,
   "metadata": {
    "colab": {
     "base_uri": "https://localhost:8080/",
     "height": 86
    },
    "colab_type": "code",
    "id": "xaM_nGAZO1CZ",
    "outputId": "98c8acba-e20f-4400-d8de-ed47ab33ad5e"
   },
   "outputs": [
    {
     "data": {
      "text/plain": [
       "1.0    0.971158\n",
       "3.0    0.026948\n",
       "2.0    0.001894\n",
       "Name: TP_ENSINO, dtype: float64"
      ]
     },
     "execution_count": 16,
     "metadata": {},
     "output_type": "execute_result"
    }
   ],
   "source": [
    "df_training['TP_ENSINO'] = df_training.TP_ENSINO.fillna(1)\n",
    "df_test['TP_ENSINO'] = df_test.TP_ENSINO.fillna(1)\n",
    "\n",
    "df_training.TP_ENSINO.value_counts(normalize=True)"
   ]
  },
  {
   "cell_type": "code",
   "execution_count": 17,
   "metadata": {
    "colab": {},
    "colab_type": "code",
    "id": "LFigrgVIUZQe"
   },
   "outputs": [],
   "source": [
    "#Notas NA são informadas como -1 pois não foram informadas e há notas atualmente como 0 para features aqui atualizadas\n",
    "df_training['NU_NOTA_CH'] = df_training.TP_ENSINO.fillna(-1)\n",
    "df_test['NU_NOTA_CH'] = df_training.TP_ENSINO.fillna(-1)\n",
    "\n",
    "df_training['NU_NOTA_CN'] = df_training.TP_ENSINO.fillna(-1)\n",
    "df_test['NU_NOTA_CN'] = df_training.TP_ENSINO.fillna(-1)\n",
    "\n",
    "df_training['NU_NOTA_LC'] = df_training.TP_ENSINO.fillna(-1)\n",
    "df_test['NU_NOTA_LC'] = df_training.TP_ENSINO.fillna(-1)\n",
    "\n",
    "df_training['NU_NOTA_REDACAO'] = df_training.TP_ENSINO.fillna(-1)\n",
    "df_test['NU_NOTA_REDACAO'] = df_training.TP_ENSINO.fillna(-1)\n",
    "\n",
    "df_training['NU_NOTA_COMP5'] = df_training.TP_ENSINO.fillna(-1)\n",
    "df_test['NU_NOTA_COMP5'] = df_training.TP_ENSINO.fillna(-1)\n",
    "\n",
    "df_training['NU_NOTA_COMP4'] = df_training.TP_ENSINO.fillna(-1)\n",
    "df_test['NU_NOTA_COMP4'] = df_training.TP_ENSINO.fillna(-1)\n",
    "\n",
    "df_training['NU_NOTA_COMP3'] = df_training.TP_ENSINO.fillna(-1)\n",
    "df_test['NU_NOTA_COMP3'] = df_training.TP_ENSINO.fillna(-1)\n",
    "\n",
    "df_training['NU_NOTA_COMP2'] = df_training.TP_ENSINO.fillna(-1)\n",
    "df_test['NU_NOTA_COMP2'] = df_training.TP_ENSINO.fillna(-1)\n",
    "\n",
    "df_training['NU_NOTA_COMP1'] = df_training.TP_ENSINO.fillna(-1)\n",
    "df_test['NU_NOTA_COMP1'] = df_training.TP_ENSINO.fillna(-1)\n",
    "\n",
    "df_training['TP_STATUS_REDACAO'] = df_training.TP_ENSINO.fillna(-1)\n",
    "df_test['TP_STATUS_REDACAO'] = df_training.TP_ENSINO.fillna(-1)\n",
    "\n",
    "#Nota mínima determinada para não gerar no modelo nota negativa\n",
    "df_training['NU_NOTA_MT'] = df_training.NU_NOTA_MT.fillna(0)"
   ]
  },
  {
   "cell_type": "code",
   "execution_count": 18,
   "metadata": {
    "colab": {},
    "colab_type": "code",
    "id": "6TpteqhGQo3b"
   },
   "outputs": [],
   "source": [
    "# TP_DEPENDENCIA_ADM_ESC: Dependência administrativa (Escola)\n",
    "# 1\tFederal\n",
    "# 2\tEstadual\n",
    "# 3\tMunicipal\n",
    "# 4\tPrivada\n",
    "# NOVO: 5 NA\n",
    "#\n",
    "# TP_ESCOLA: Tipo de escola do Ensino Médio\n",
    "# 1\tNão Respondeu\n",
    "# 4\tExterior\n",
    "\n",
    "#Considerar que os valores faltantes são de Escolas Estaduais\n",
    "df_training['TP_DEPENDENCIA_ADM_ESC'] = df_training.TP_DEPENDENCIA_ADM_ESC.fillna(2)\n",
    "df_test['TP_DEPENDENCIA_ADM_ESC'] = df_training.TP_DEPENDENCIA_ADM_ESC.fillna(2)"
   ]
  },
  {
   "cell_type": "code",
   "execution_count": 19,
   "metadata": {
    "colab": {
     "base_uri": "https://localhost:8080/",
     "height": 596
    },
    "colab_type": "code",
    "id": "CBgOqMoNNxlU",
    "outputId": "b31bc916-d4d5-4820-abcb-856541f238ef"
   },
   "outputs": [
    {
     "data": {
      "text/html": [
       "<div>\n",
       "<style scoped>\n",
       "    .dataframe tbody tr th:only-of-type {\n",
       "        vertical-align: middle;\n",
       "    }\n",
       "\n",
       "    .dataframe tbody tr th {\n",
       "        vertical-align: top;\n",
       "    }\n",
       "\n",
       "    .dataframe thead th {\n",
       "        text-align: right;\n",
       "    }\n",
       "</style>\n",
       "<table border=\"1\" class=\"dataframe\">\n",
       "  <thead>\n",
       "    <tr style=\"text-align: right;\">\n",
       "      <th></th>\n",
       "      <th>column_name</th>\n",
       "      <th>percent_missing_test</th>\n",
       "      <th>percent_missing_train</th>\n",
       "    </tr>\n",
       "  </thead>\n",
       "  <tbody>\n",
       "    <tr>\n",
       "      <th>CO_PROVA_CH</th>\n",
       "      <td>NU_INSCRICAO</td>\n",
       "      <td>0.0</td>\n",
       "      <td>0.0</td>\n",
       "    </tr>\n",
       "    <tr>\n",
       "      <th>Q001</th>\n",
       "      <td>CO_PROVA_LC</td>\n",
       "      <td>0.0</td>\n",
       "      <td>0.0</td>\n",
       "    </tr>\n",
       "    <tr>\n",
       "      <th>Q002</th>\n",
       "      <td>CO_PROVA_MT</td>\n",
       "      <td>0.0</td>\n",
       "      <td>0.0</td>\n",
       "    </tr>\n",
       "    <tr>\n",
       "      <th>Q006</th>\n",
       "      <td>NU_NOTA_CN</td>\n",
       "      <td>0.0</td>\n",
       "      <td>0.0</td>\n",
       "    </tr>\n",
       "    <tr>\n",
       "      <th>Q024</th>\n",
       "      <td>NU_NOTA_CH</td>\n",
       "      <td>0.0</td>\n",
       "      <td>0.0</td>\n",
       "    </tr>\n",
       "    <tr>\n",
       "      <th>Q025</th>\n",
       "      <td>NU_NOTA_LC</td>\n",
       "      <td>0.0</td>\n",
       "      <td>0.0</td>\n",
       "    </tr>\n",
       "    <tr>\n",
       "      <th>Q026</th>\n",
       "      <td>TP_LINGUA</td>\n",
       "      <td>0.0</td>\n",
       "      <td>0.0</td>\n",
       "    </tr>\n",
       "    <tr>\n",
       "      <th>Q027</th>\n",
       "      <td>TP_STATUS_REDACAO</td>\n",
       "      <td>0.0</td>\n",
       "      <td>0.0</td>\n",
       "    </tr>\n",
       "    <tr>\n",
       "      <th>Q047</th>\n",
       "      <td>NU_NOTA_COMP1</td>\n",
       "      <td>0.0</td>\n",
       "      <td>0.0</td>\n",
       "    </tr>\n",
       "    <tr>\n",
       "      <th>SG_UF_RESIDENCIA</th>\n",
       "      <td>NU_NOTA_COMP2</td>\n",
       "      <td>0.0</td>\n",
       "      <td>0.0</td>\n",
       "    </tr>\n",
       "    <tr>\n",
       "      <th>NU_NOTA_REDACAO</th>\n",
       "      <td>CO_PROVA_CH</td>\n",
       "      <td>0.0</td>\n",
       "      <td>0.0</td>\n",
       "    </tr>\n",
       "    <tr>\n",
       "      <th>TP_ANO_CONCLUIU</th>\n",
       "      <td>NU_NOTA_COMP3</td>\n",
       "      <td>0.0</td>\n",
       "      <td>0.0</td>\n",
       "    </tr>\n",
       "    <tr>\n",
       "      <th>TP_DEPENDENCIA_ADM_ESC</th>\n",
       "      <td>NU_NOTA_COMP5</td>\n",
       "      <td>0.0</td>\n",
       "      <td>0.0</td>\n",
       "    </tr>\n",
       "    <tr>\n",
       "      <th>TP_ENSINO</th>\n",
       "      <td>NU_NOTA_REDACAO</td>\n",
       "      <td>0.0</td>\n",
       "      <td>0.0</td>\n",
       "    </tr>\n",
       "    <tr>\n",
       "      <th>TP_ESCOLA</th>\n",
       "      <td>Q001</td>\n",
       "      <td>0.0</td>\n",
       "      <td>0.0</td>\n",
       "    </tr>\n",
       "    <tr>\n",
       "      <th>TP_LINGUA</th>\n",
       "      <td>Q002</td>\n",
       "      <td>0.0</td>\n",
       "      <td>0.0</td>\n",
       "    </tr>\n",
       "    <tr>\n",
       "      <th>TP_NACIONALIDADE</th>\n",
       "      <td>Q006</td>\n",
       "      <td>0.0</td>\n",
       "      <td>0.0</td>\n",
       "    </tr>\n",
       "    <tr>\n",
       "      <th>TP_PRESENCA_CH</th>\n",
       "      <td>Q024</td>\n",
       "      <td>0.0</td>\n",
       "      <td>0.0</td>\n",
       "    </tr>\n",
       "    <tr>\n",
       "      <th>TP_PRESENCA_CN</th>\n",
       "      <td>Q025</td>\n",
       "      <td>0.0</td>\n",
       "      <td>0.0</td>\n",
       "    </tr>\n",
       "    <tr>\n",
       "      <th>TP_PRESENCA_LC</th>\n",
       "      <td>Q026</td>\n",
       "      <td>0.0</td>\n",
       "      <td>0.0</td>\n",
       "    </tr>\n",
       "    <tr>\n",
       "      <th>TP_SEXO</th>\n",
       "      <td>Q027</td>\n",
       "      <td>0.0</td>\n",
       "      <td>0.0</td>\n",
       "    </tr>\n",
       "    <tr>\n",
       "      <th>TP_COR_RACA</th>\n",
       "      <td>NU_NOTA_COMP4</td>\n",
       "      <td>0.0</td>\n",
       "      <td>0.0</td>\n",
       "    </tr>\n",
       "    <tr>\n",
       "      <th>NU_NOTA_MT</th>\n",
       "      <td>CO_PROVA_CN</td>\n",
       "      <td>NaN</td>\n",
       "      <td>0.0</td>\n",
       "    </tr>\n",
       "    <tr>\n",
       "      <th>NU_NOTA_LC</th>\n",
       "      <td>TP_PRESENCA_LC</td>\n",
       "      <td>0.0</td>\n",
       "      <td>0.0</td>\n",
       "    </tr>\n",
       "    <tr>\n",
       "      <th>NU_NOTA_COMP5</th>\n",
       "      <td>TP_PRESENCA_CH</td>\n",
       "      <td>0.0</td>\n",
       "      <td>0.0</td>\n",
       "    </tr>\n",
       "    <tr>\n",
       "      <th>CO_PROVA_CN</th>\n",
       "      <td>CO_UF_RESIDENCIA</td>\n",
       "      <td>0.0</td>\n",
       "      <td>0.0</td>\n",
       "    </tr>\n",
       "    <tr>\n",
       "      <th>CO_PROVA_LC</th>\n",
       "      <td>SG_UF_RESIDENCIA</td>\n",
       "      <td>0.0</td>\n",
       "      <td>0.0</td>\n",
       "    </tr>\n",
       "    <tr>\n",
       "      <th>CO_PROVA_MT</th>\n",
       "      <td>NU_IDADE</td>\n",
       "      <td>0.0</td>\n",
       "      <td>0.0</td>\n",
       "    </tr>\n",
       "    <tr>\n",
       "      <th>CO_UF_RESIDENCIA</th>\n",
       "      <td>TP_SEXO</td>\n",
       "      <td>0.0</td>\n",
       "      <td>0.0</td>\n",
       "    </tr>\n",
       "    <tr>\n",
       "      <th>IN_BAIXA_VISAO</th>\n",
       "      <td>TP_COR_RACA</td>\n",
       "      <td>0.0</td>\n",
       "      <td>0.0</td>\n",
       "    </tr>\n",
       "    <tr>\n",
       "      <th>IN_CEGUEIRA</th>\n",
       "      <td>TP_NACIONALIDADE</td>\n",
       "      <td>0.0</td>\n",
       "      <td>0.0</td>\n",
       "    </tr>\n",
       "    <tr>\n",
       "      <th>IN_DISCALCULIA</th>\n",
       "      <td>TP_ST_CONCLUSAO</td>\n",
       "      <td>0.0</td>\n",
       "      <td>0.0</td>\n",
       "    </tr>\n",
       "    <tr>\n",
       "      <th>IN_DISLEXIA</th>\n",
       "      <td>TP_ANO_CONCLUIU</td>\n",
       "      <td>0.0</td>\n",
       "      <td>0.0</td>\n",
       "    </tr>\n",
       "    <tr>\n",
       "      <th>IN_GESTANTE</th>\n",
       "      <td>TP_ESCOLA</td>\n",
       "      <td>0.0</td>\n",
       "      <td>0.0</td>\n",
       "    </tr>\n",
       "    <tr>\n",
       "      <th>IN_IDOSO</th>\n",
       "      <td>TP_ENSINO</td>\n",
       "      <td>0.0</td>\n",
       "      <td>0.0</td>\n",
       "    </tr>\n",
       "    <tr>\n",
       "      <th>IN_SABATISTA</th>\n",
       "      <td>IN_TREINEIRO</td>\n",
       "      <td>0.0</td>\n",
       "      <td>0.0</td>\n",
       "    </tr>\n",
       "    <tr>\n",
       "      <th>IN_SURDEZ</th>\n",
       "      <td>TP_DEPENDENCIA_ADM_ESC</td>\n",
       "      <td>0.0</td>\n",
       "      <td>0.0</td>\n",
       "    </tr>\n",
       "    <tr>\n",
       "      <th>IN_TREINEIRO</th>\n",
       "      <td>IN_BAIXA_VISAO</td>\n",
       "      <td>0.0</td>\n",
       "      <td>0.0</td>\n",
       "    </tr>\n",
       "    <tr>\n",
       "      <th>NU_IDADE</th>\n",
       "      <td>IN_CEGUEIRA</td>\n",
       "      <td>0.0</td>\n",
       "      <td>0.0</td>\n",
       "    </tr>\n",
       "    <tr>\n",
       "      <th>NU_INSCRICAO</th>\n",
       "      <td>IN_SURDEZ</td>\n",
       "      <td>0.0</td>\n",
       "      <td>0.0</td>\n",
       "    </tr>\n",
       "    <tr>\n",
       "      <th>NU_NOTA_CH</th>\n",
       "      <td>IN_DISLEXIA</td>\n",
       "      <td>0.0</td>\n",
       "      <td>0.0</td>\n",
       "    </tr>\n",
       "    <tr>\n",
       "      <th>NU_NOTA_CN</th>\n",
       "      <td>IN_DISCALCULIA</td>\n",
       "      <td>0.0</td>\n",
       "      <td>0.0</td>\n",
       "    </tr>\n",
       "    <tr>\n",
       "      <th>NU_NOTA_COMP1</th>\n",
       "      <td>IN_SABATISTA</td>\n",
       "      <td>0.0</td>\n",
       "      <td>0.0</td>\n",
       "    </tr>\n",
       "    <tr>\n",
       "      <th>NU_NOTA_COMP2</th>\n",
       "      <td>IN_GESTANTE</td>\n",
       "      <td>0.0</td>\n",
       "      <td>0.0</td>\n",
       "    </tr>\n",
       "    <tr>\n",
       "      <th>NU_NOTA_COMP3</th>\n",
       "      <td>IN_IDOSO</td>\n",
       "      <td>0.0</td>\n",
       "      <td>0.0</td>\n",
       "    </tr>\n",
       "    <tr>\n",
       "      <th>NU_NOTA_COMP4</th>\n",
       "      <td>TP_PRESENCA_CN</td>\n",
       "      <td>0.0</td>\n",
       "      <td>0.0</td>\n",
       "    </tr>\n",
       "    <tr>\n",
       "      <th>TP_STATUS_REDACAO</th>\n",
       "      <td>Q047</td>\n",
       "      <td>0.0</td>\n",
       "      <td>0.0</td>\n",
       "    </tr>\n",
       "    <tr>\n",
       "      <th>TP_ST_CONCLUSAO</th>\n",
       "      <td>NU_NOTA_MT</td>\n",
       "      <td>0.0</td>\n",
       "      <td>0.0</td>\n",
       "    </tr>\n",
       "  </tbody>\n",
       "</table>\n",
       "</div>"
      ],
      "text/plain": [
       "                                   column_name  percent_missing_test  \\\n",
       "CO_PROVA_CH                       NU_INSCRICAO                   0.0   \n",
       "Q001                               CO_PROVA_LC                   0.0   \n",
       "Q002                               CO_PROVA_MT                   0.0   \n",
       "Q006                                NU_NOTA_CN                   0.0   \n",
       "Q024                                NU_NOTA_CH                   0.0   \n",
       "Q025                                NU_NOTA_LC                   0.0   \n",
       "Q026                                 TP_LINGUA                   0.0   \n",
       "Q027                         TP_STATUS_REDACAO                   0.0   \n",
       "Q047                             NU_NOTA_COMP1                   0.0   \n",
       "SG_UF_RESIDENCIA                 NU_NOTA_COMP2                   0.0   \n",
       "NU_NOTA_REDACAO                    CO_PROVA_CH                   0.0   \n",
       "TP_ANO_CONCLUIU                  NU_NOTA_COMP3                   0.0   \n",
       "TP_DEPENDENCIA_ADM_ESC           NU_NOTA_COMP5                   0.0   \n",
       "TP_ENSINO                      NU_NOTA_REDACAO                   0.0   \n",
       "TP_ESCOLA                                 Q001                   0.0   \n",
       "TP_LINGUA                                 Q002                   0.0   \n",
       "TP_NACIONALIDADE                          Q006                   0.0   \n",
       "TP_PRESENCA_CH                            Q024                   0.0   \n",
       "TP_PRESENCA_CN                            Q025                   0.0   \n",
       "TP_PRESENCA_LC                            Q026                   0.0   \n",
       "TP_SEXO                                   Q027                   0.0   \n",
       "TP_COR_RACA                      NU_NOTA_COMP4                   0.0   \n",
       "NU_NOTA_MT                         CO_PROVA_CN                   NaN   \n",
       "NU_NOTA_LC                      TP_PRESENCA_LC                   0.0   \n",
       "NU_NOTA_COMP5                   TP_PRESENCA_CH                   0.0   \n",
       "CO_PROVA_CN                   CO_UF_RESIDENCIA                   0.0   \n",
       "CO_PROVA_LC                   SG_UF_RESIDENCIA                   0.0   \n",
       "CO_PROVA_MT                           NU_IDADE                   0.0   \n",
       "CO_UF_RESIDENCIA                       TP_SEXO                   0.0   \n",
       "IN_BAIXA_VISAO                     TP_COR_RACA                   0.0   \n",
       "IN_CEGUEIRA                   TP_NACIONALIDADE                   0.0   \n",
       "IN_DISCALCULIA                 TP_ST_CONCLUSAO                   0.0   \n",
       "IN_DISLEXIA                    TP_ANO_CONCLUIU                   0.0   \n",
       "IN_GESTANTE                          TP_ESCOLA                   0.0   \n",
       "IN_IDOSO                             TP_ENSINO                   0.0   \n",
       "IN_SABATISTA                      IN_TREINEIRO                   0.0   \n",
       "IN_SURDEZ               TP_DEPENDENCIA_ADM_ESC                   0.0   \n",
       "IN_TREINEIRO                    IN_BAIXA_VISAO                   0.0   \n",
       "NU_IDADE                           IN_CEGUEIRA                   0.0   \n",
       "NU_INSCRICAO                         IN_SURDEZ                   0.0   \n",
       "NU_NOTA_CH                         IN_DISLEXIA                   0.0   \n",
       "NU_NOTA_CN                      IN_DISCALCULIA                   0.0   \n",
       "NU_NOTA_COMP1                     IN_SABATISTA                   0.0   \n",
       "NU_NOTA_COMP2                      IN_GESTANTE                   0.0   \n",
       "NU_NOTA_COMP3                         IN_IDOSO                   0.0   \n",
       "NU_NOTA_COMP4                   TP_PRESENCA_CN                   0.0   \n",
       "TP_STATUS_REDACAO                         Q047                   0.0   \n",
       "TP_ST_CONCLUSAO                     NU_NOTA_MT                   0.0   \n",
       "\n",
       "                        percent_missing_train  \n",
       "CO_PROVA_CH                               0.0  \n",
       "Q001                                      0.0  \n",
       "Q002                                      0.0  \n",
       "Q006                                      0.0  \n",
       "Q024                                      0.0  \n",
       "Q025                                      0.0  \n",
       "Q026                                      0.0  \n",
       "Q027                                      0.0  \n",
       "Q047                                      0.0  \n",
       "SG_UF_RESIDENCIA                          0.0  \n",
       "NU_NOTA_REDACAO                           0.0  \n",
       "TP_ANO_CONCLUIU                           0.0  \n",
       "TP_DEPENDENCIA_ADM_ESC                    0.0  \n",
       "TP_ENSINO                                 0.0  \n",
       "TP_ESCOLA                                 0.0  \n",
       "TP_LINGUA                                 0.0  \n",
       "TP_NACIONALIDADE                          0.0  \n",
       "TP_PRESENCA_CH                            0.0  \n",
       "TP_PRESENCA_CN                            0.0  \n",
       "TP_PRESENCA_LC                            0.0  \n",
       "TP_SEXO                                   0.0  \n",
       "TP_COR_RACA                               0.0  \n",
       "NU_NOTA_MT                                0.0  \n",
       "NU_NOTA_LC                                0.0  \n",
       "NU_NOTA_COMP5                             0.0  \n",
       "CO_PROVA_CN                               0.0  \n",
       "CO_PROVA_LC                               0.0  \n",
       "CO_PROVA_MT                               0.0  \n",
       "CO_UF_RESIDENCIA                          0.0  \n",
       "IN_BAIXA_VISAO                            0.0  \n",
       "IN_CEGUEIRA                               0.0  \n",
       "IN_DISCALCULIA                            0.0  \n",
       "IN_DISLEXIA                               0.0  \n",
       "IN_GESTANTE                               0.0  \n",
       "IN_IDOSO                                  0.0  \n",
       "IN_SABATISTA                              0.0  \n",
       "IN_SURDEZ                                 0.0  \n",
       "IN_TREINEIRO                              0.0  \n",
       "NU_IDADE                                  0.0  \n",
       "NU_INSCRICAO                              0.0  \n",
       "NU_NOTA_CH                                0.0  \n",
       "NU_NOTA_CN                                0.0  \n",
       "NU_NOTA_COMP1                             0.0  \n",
       "NU_NOTA_COMP2                             0.0  \n",
       "NU_NOTA_COMP3                             0.0  \n",
       "NU_NOTA_COMP4                             0.0  \n",
       "TP_STATUS_REDACAO                         0.0  \n",
       "TP_ST_CONCLUSAO                           0.0  "
      ]
     },
     "execution_count": 19,
     "metadata": {},
     "output_type": "execute_result"
    }
   ],
   "source": [
    "ms = missing_values(df_training,df_test)\n",
    "ms"
   ]
  },
  {
   "cell_type": "code",
   "execution_count": 0,
   "metadata": {
    "colab": {},
    "colab_type": "code",
    "id": "mZxyhUaX6NqQ"
   },
   "outputs": [],
   "source": [
    "#lb_make = LabelEncoder()\n",
    "#df_training[\"NU_INSCRICAO\"] = lb_make.fit_transform(df_training[\"NU_INSCRICAO\"])\n",
    "#df_test[\"NU_INSCRICAO\"] = lb_make.fit_transform(df_test[\"NU_INSCRICAO\"])"
   ]
  },
  {
   "cell_type": "markdown",
   "metadata": {
    "colab_type": "text",
    "id": "N9m6MMzc0w9j"
   },
   "source": [
    "## **Modelo**"
   ]
  },
  {
   "cell_type": "markdown",
   "metadata": {
    "colab_type": "text",
    "id": "u2ILQpQt4ecv"
   },
   "source": [
    "### **Linear Regression**"
   ]
  },
  {
   "cell_type": "code",
   "execution_count": 20,
   "metadata": {
    "colab": {},
    "colab_type": "code",
    "id": "mZPrub22yuHw"
   },
   "outputs": [],
   "source": [
    "X = df_training\n",
    "y = df_training['NU_NOTA_MT']\n",
    "\n",
    "X = X.drop(['NU_NOTA_MT'],axis=1)\n",
    "X = X.drop(['NU_INSCRICAO'],axis=1)\n",
    "\n",
    "from sklearn.model_selection import train_test_split\n",
    "X_train, X_test, y_train, y_test = train_test_split(X, y, random_state=1)"
   ]
  },
  {
   "cell_type": "code",
   "execution_count": 21,
   "metadata": {
    "colab": {
     "base_uri": "https://localhost:8080/",
     "height": 34
    },
    "colab_type": "code",
    "id": "LG2rAmf0zF71",
    "outputId": "209b1bd5-1dc4-4cf1-b6ef-5e5ee47789d6"
   },
   "outputs": [
    {
     "data": {
      "text/plain": [
       "LinearRegression(copy_X=True, fit_intercept=True, n_jobs=None,\n",
       "         normalize=False)"
      ]
     },
     "execution_count": 21,
     "metadata": {},
     "output_type": "execute_result"
    }
   ],
   "source": [
    "from sklearn.linear_model import LinearRegression\n",
    "linreg = LinearRegression()\n",
    "linreg.fit(X_train, y_train)"
   ]
  },
  {
   "cell_type": "code",
   "execution_count": 22,
   "metadata": {
    "colab": {},
    "colab_type": "code",
    "id": "DTzqYVzNzMYu"
   },
   "outputs": [],
   "source": [
    "y_pred = linreg.predict(X_test)"
   ]
  },
  {
   "cell_type": "code",
   "execution_count": 30,
   "metadata": {
    "colab": {
     "base_uri": "https://localhost:8080/",
     "height": 34
    },
    "colab_type": "code",
    "id": "LJPzNzs0zgGG",
    "outputId": "6af7be3a-2058-4be5-8a3f-c8ff5a72683b"
   },
   "outputs": [
    {
     "name": "stdout",
     "output_type": "stream",
     "text": [
      "76.44923463293144\n"
     ]
    }
   ],
   "source": [
    "from sklearn import metrics\n",
    "from sklearn.metrics import mean_squared_error\n",
    "\n",
    "print(np.sqrt(metrics.mean_squared_error(y_test, y_pred)))"
   ]
  },
  {
   "cell_type": "markdown",
   "metadata": {
    "colab_type": "text",
    "id": "ddkPgNLRCY5d"
   },
   "source": [
    "#### **Submission**"
   ]
  },
  {
   "cell_type": "code",
   "execution_count": 31,
   "metadata": {
    "colab": {
     "base_uri": "https://localhost:8080/",
     "height": 34
    },
    "colab_type": "code",
    "id": "CxiGe9KhCIez",
    "outputId": "9cf6d279-9f80-4638-b4d9-a46ed9cd5ea7"
   },
   "outputs": [
    {
     "data": {
      "text/plain": [
       "(4576, 47)"
      ]
     },
     "execution_count": 31,
     "metadata": {},
     "output_type": "execute_result"
    }
   ],
   "source": [
    "df_test.shape"
   ]
  },
  {
   "cell_type": "code",
   "execution_count": 32,
   "metadata": {
    "colab": {},
    "colab_type": "code",
    "id": "t1otglt5AXW6"
   },
   "outputs": [],
   "source": [
    "df = df_test.drop(['NU_INSCRICAO',],axis=1)\n",
    "pred = linreg.predict(df)"
   ]
  },
  {
   "cell_type": "code",
   "execution_count": 33,
   "metadata": {
    "colab": {
     "base_uri": "https://localhost:8080/",
     "height": 34
    },
    "colab_type": "code",
    "id": "G4oaLS_QBu8V",
    "outputId": "525e2151-100a-4503-ace0-0b09d4705b9b"
   },
   "outputs": [
    {
     "data": {
      "text/plain": [
       "(4576L,)"
      ]
     },
     "execution_count": 33,
     "metadata": {},
     "output_type": "execute_result"
    }
   ],
   "source": [
    "sub= pd.Series(pred, index=df_test['NU_INSCRICAO'].astype(np.str), name='NU_NOTA_MT')\n",
    "sub.shape"
   ]
  },
  {
   "cell_type": "code",
   "execution_count": 34,
   "metadata": {
    "colab": {
     "base_uri": "https://localhost:8080/",
     "height": 138
    },
    "colab_type": "code",
    "id": "KPIEMIZxCQs7",
    "outputId": "67eabcde-56e8-4e5b-eec6-d1b873fdb2db"
   },
   "outputs": [
    {
     "data": {
      "text/plain": [
       "NU_INSCRICAO\n",
       "73ff9fcc02f0a99919906c942c2e1a1042cdcf98    459.291181\n",
       "71a95f9f1b91a82c65ad94abbdf9f54e6066f968    461.643769\n",
       "b38a03232f43b11c9d0788abaf060f7366053b6d    505.264719\n",
       "70b682d9a3636be23f6120fa9d6b164eb3c6002d     31.894690\n",
       "715494628a50142ce8cb17191cfe6d0f3cae0934    527.408620\n",
       "Name: NU_NOTA_MT, dtype: float64"
      ]
     },
     "execution_count": 34,
     "metadata": {},
     "output_type": "execute_result"
    }
   ],
   "source": [
    "sub.head()"
   ]
  },
  {
   "cell_type": "markdown",
   "metadata": {
    "colab_type": "text",
    "id": "KjFCg9IZ4WU5"
   },
   "source": [
    "### **Lightgbm**"
   ]
  },
  {
   "cell_type": "code",
   "execution_count": 35,
   "metadata": {
    "colab": {},
    "colab_type": "code",
    "id": "tTUVZ2wV2UVI"
   },
   "outputs": [],
   "source": [
    "def get_data_splits(dataframe, valid_fraction=0.1):\n",
    "    valid_size = int(len(dataframe) * valid_fraction)\n",
    "\n",
    "    train = dataframe[:-valid_size * 2]\n",
    "    # valid size == test size, last two sections of the data\n",
    "    valid = dataframe[-valid_size * 2:-valid_size]\n",
    "    test = dataframe[-valid_size:]\n",
    "    \n",
    "    return train, valid, test\n",
    "\n",
    "train, valid, test = get_data_splits(df_training)"
   ]
  },
  {
   "cell_type": "code",
   "execution_count": 37,
   "metadata": {
    "colab": {
     "base_uri": "https://localhost:8080/",
     "height": 1000
    },
    "colab_type": "code",
    "id": "pYRJ4aD81zM7",
    "outputId": "824c0c15-f67e-47d7-cd4e-dbc74dd323cf"
   },
   "outputs": [
    {
     "name": "stdout",
     "output_type": "stream",
     "text": [
      "[1]\tvalid_0's l2: 42220.3\tvalid_0's l1: 168.231\n",
      "Training until validation scores don't improve for 100 rounds\n",
      "[2]\tvalid_0's l2: 35288.7\tvalid_0's l1: 152.91\n",
      "[3]\tvalid_0's l2: 29680.7\tvalid_0's l1: 139.627\n",
      "[4]\tvalid_0's l2: 25134.2\tvalid_0's l1: 128.12\n",
      "[5]\tvalid_0's l2: 21416.3\tvalid_0's l1: 118.137\n",
      "[6]\tvalid_0's l2: 18429.9\tvalid_0's l1: 109.683\n",
      "[7]\tvalid_0's l2: 16008.8\tvalid_0's l1: 102.34\n",
      "[8]\tvalid_0's l2: 14053.9\tvalid_0's l1: 95.9926\n",
      "[9]\tvalid_0's l2: 12445.2\tvalid_0's l1: 90.4676\n",
      "[10]\tvalid_0's l2: 11155.5\tvalid_0's l1: 85.7634\n",
      "[11]\tvalid_0's l2: 10083.4\tvalid_0's l1: 81.5381\n",
      "[12]\tvalid_0's l2: 9219.34\tvalid_0's l1: 77.8667\n",
      "[13]\tvalid_0's l2: 8528.18\tvalid_0's l1: 74.6599\n",
      "[14]\tvalid_0's l2: 7961.77\tvalid_0's l1: 71.8589\n",
      "[15]\tvalid_0's l2: 7494\tvalid_0's l1: 69.3737\n",
      "[16]\tvalid_0's l2: 7109.98\tvalid_0's l1: 67.1991\n",
      "[17]\tvalid_0's l2: 6792.28\tvalid_0's l1: 65.2248\n",
      "[18]\tvalid_0's l2: 6544.98\tvalid_0's l1: 63.5416\n",
      "[19]\tvalid_0's l2: 6340.31\tvalid_0's l1: 62.0271\n",
      "[20]\tvalid_0's l2: 6177.86\tvalid_0's l1: 60.6873\n",
      "[21]\tvalid_0's l2: 6034.55\tvalid_0's l1: 59.4805\n",
      "[22]\tvalid_0's l2: 5919.22\tvalid_0's l1: 58.408\n",
      "[23]\tvalid_0's l2: 5832.31\tvalid_0's l1: 57.5095\n",
      "[24]\tvalid_0's l2: 5756.49\tvalid_0's l1: 56.6607\n",
      "[25]\tvalid_0's l2: 5686.77\tvalid_0's l1: 55.8872\n",
      "[26]\tvalid_0's l2: 5641.84\tvalid_0's l1: 55.2363\n",
      "[27]\tvalid_0's l2: 5602.65\tvalid_0's l1: 54.6589\n",
      "[28]\tvalid_0's l2: 5561.23\tvalid_0's l1: 54.0956\n",
      "[29]\tvalid_0's l2: 5532.63\tvalid_0's l1: 53.6559\n",
      "[30]\tvalid_0's l2: 5490.65\tvalid_0's l1: 53.1456\n",
      "[31]\tvalid_0's l2: 5476.08\tvalid_0's l1: 52.7968\n",
      "[32]\tvalid_0's l2: 5457.87\tvalid_0's l1: 52.4389\n",
      "[33]\tvalid_0's l2: 5445.7\tvalid_0's l1: 52.1832\n",
      "[34]\tvalid_0's l2: 5431.28\tvalid_0's l1: 51.9071\n",
      "[35]\tvalid_0's l2: 5415.49\tvalid_0's l1: 51.6463\n",
      "[36]\tvalid_0's l2: 5406.19\tvalid_0's l1: 51.4381\n",
      "[37]\tvalid_0's l2: 5402.46\tvalid_0's l1: 51.2708\n",
      "[38]\tvalid_0's l2: 5388.65\tvalid_0's l1: 51.0539\n",
      "[39]\tvalid_0's l2: 5383.12\tvalid_0's l1: 50.8967\n",
      "[40]\tvalid_0's l2: 5368.68\tvalid_0's l1: 50.7318\n",
      "[41]\tvalid_0's l2: 5363.56\tvalid_0's l1: 50.6184\n",
      "[42]\tvalid_0's l2: 5353.67\tvalid_0's l1: 50.4685\n",
      "[43]\tvalid_0's l2: 5355.5\tvalid_0's l1: 50.396\n",
      "[44]\tvalid_0's l2: 5349.11\tvalid_0's l1: 50.3123\n",
      "[45]\tvalid_0's l2: 5344.88\tvalid_0's l1: 50.245\n",
      "[46]\tvalid_0's l2: 5345.84\tvalid_0's l1: 50.1866\n",
      "[47]\tvalid_0's l2: 5338.14\tvalid_0's l1: 50.1052\n",
      "[48]\tvalid_0's l2: 5336.24\tvalid_0's l1: 50.0691\n",
      "[49]\tvalid_0's l2: 5339.26\tvalid_0's l1: 50.0747\n",
      "[50]\tvalid_0's l2: 5335.23\tvalid_0's l1: 50.0393\n",
      "[51]\tvalid_0's l2: 5336.21\tvalid_0's l1: 50.0306\n",
      "[52]\tvalid_0's l2: 5339.6\tvalid_0's l1: 50.001\n",
      "[53]\tvalid_0's l2: 5342.43\tvalid_0's l1: 49.9823\n",
      "[54]\tvalid_0's l2: 5337.95\tvalid_0's l1: 49.968\n",
      "[55]\tvalid_0's l2: 5337.38\tvalid_0's l1: 49.9406\n",
      "[56]\tvalid_0's l2: 5339.9\tvalid_0's l1: 49.929\n",
      "[57]\tvalid_0's l2: 5333.64\tvalid_0's l1: 49.8764\n",
      "[58]\tvalid_0's l2: 5326.59\tvalid_0's l1: 49.85\n",
      "[59]\tvalid_0's l2: 5324.95\tvalid_0's l1: 49.8511\n",
      "[60]\tvalid_0's l2: 5325.22\tvalid_0's l1: 49.8678\n",
      "[61]\tvalid_0's l2: 5326.05\tvalid_0's l1: 49.8619\n",
      "[62]\tvalid_0's l2: 5326.74\tvalid_0's l1: 49.8692\n",
      "[63]\tvalid_0's l2: 5322.07\tvalid_0's l1: 49.8446\n",
      "[64]\tvalid_0's l2: 5322.8\tvalid_0's l1: 49.854\n",
      "[65]\tvalid_0's l2: 5324.45\tvalid_0's l1: 49.8893\n",
      "[66]\tvalid_0's l2: 5323.29\tvalid_0's l1: 49.891\n",
      "[67]\tvalid_0's l2: 5319.48\tvalid_0's l1: 49.867\n",
      "[68]\tvalid_0's l2: 5316.85\tvalid_0's l1: 49.8664\n",
      "[69]\tvalid_0's l2: 5324.88\tvalid_0's l1: 49.9297\n",
      "[70]\tvalid_0's l2: 5322.08\tvalid_0's l1: 49.9226\n",
      "[71]\tvalid_0's l2: 5321.34\tvalid_0's l1: 49.9176\n",
      "[72]\tvalid_0's l2: 5316.37\tvalid_0's l1: 49.9112\n",
      "[73]\tvalid_0's l2: 5317.43\tvalid_0's l1: 49.9044\n",
      "[74]\tvalid_0's l2: 5319.82\tvalid_0's l1: 49.9398\n",
      "[75]\tvalid_0's l2: 5320.4\tvalid_0's l1: 49.9403\n",
      "[76]\tvalid_0's l2: 5315.9\tvalid_0's l1: 49.9056\n",
      "[77]\tvalid_0's l2: 5320.15\tvalid_0's l1: 49.9169\n",
      "[78]\tvalid_0's l2: 5317.06\tvalid_0's l1: 49.9209\n",
      "[79]\tvalid_0's l2: 5323.08\tvalid_0's l1: 49.9521\n",
      "[80]\tvalid_0's l2: 5323.35\tvalid_0's l1: 49.982\n",
      "[81]\tvalid_0's l2: 5325.03\tvalid_0's l1: 50.0096\n",
      "[82]\tvalid_0's l2: 5328.94\tvalid_0's l1: 50.0362\n",
      "[83]\tvalid_0's l2: 5327.13\tvalid_0's l1: 50.0165\n",
      "[84]\tvalid_0's l2: 5329.87\tvalid_0's l1: 50.0388\n",
      "[85]\tvalid_0's l2: 5333.45\tvalid_0's l1: 50.0738\n",
      "[86]\tvalid_0's l2: 5334.82\tvalid_0's l1: 50.0939\n",
      "[87]\tvalid_0's l2: 5329.65\tvalid_0's l1: 50.0657\n",
      "[88]\tvalid_0's l2: 5334.66\tvalid_0's l1: 50.0928\n",
      "[89]\tvalid_0's l2: 5332.08\tvalid_0's l1: 50.1057\n",
      "[90]\tvalid_0's l2: 5330.73\tvalid_0's l1: 50.1036\n",
      "[91]\tvalid_0's l2: 5326.38\tvalid_0's l1: 50.0987\n",
      "[92]\tvalid_0's l2: 5332.22\tvalid_0's l1: 50.1121\n",
      "[93]\tvalid_0's l2: 5336.1\tvalid_0's l1: 50.1111\n",
      "[94]\tvalid_0's l2: 5337.05\tvalid_0's l1: 50.1029\n",
      "[95]\tvalid_0's l2: 5336.61\tvalid_0's l1: 50.0893\n",
      "[96]\tvalid_0's l2: 5341.75\tvalid_0's l1: 50.1344\n",
      "[97]\tvalid_0's l2: 5341.14\tvalid_0's l1: 50.1296\n",
      "[98]\tvalid_0's l2: 5339.99\tvalid_0's l1: 50.1389\n",
      "[99]\tvalid_0's l2: 5335.02\tvalid_0's l1: 50.0951\n",
      "[100]\tvalid_0's l2: 5338.6\tvalid_0's l1: 50.1081\n",
      "[101]\tvalid_0's l2: 5341.26\tvalid_0's l1: 50.1268\n",
      "[102]\tvalid_0's l2: 5341.11\tvalid_0's l1: 50.119\n",
      "[103]\tvalid_0's l2: 5341.59\tvalid_0's l1: 50.1404\n",
      "[104]\tvalid_0's l2: 5340.51\tvalid_0's l1: 50.1366\n",
      "[105]\tvalid_0's l2: 5338.85\tvalid_0's l1: 50.1374\n",
      "[106]\tvalid_0's l2: 5339.92\tvalid_0's l1: 50.1439\n",
      "[107]\tvalid_0's l2: 5343.19\tvalid_0's l1: 50.1456\n",
      "[108]\tvalid_0's l2: 5341.1\tvalid_0's l1: 50.1148\n",
      "[109]\tvalid_0's l2: 5342.68\tvalid_0's l1: 50.1298\n",
      "[110]\tvalid_0's l2: 5343.02\tvalid_0's l1: 50.1377\n",
      "[111]\tvalid_0's l2: 5346.9\tvalid_0's l1: 50.1419\n",
      "[112]\tvalid_0's l2: 5348.54\tvalid_0's l1: 50.165\n",
      "[113]\tvalid_0's l2: 5350.13\tvalid_0's l1: 50.1664\n",
      "[114]\tvalid_0's l2: 5350.69\tvalid_0's l1: 50.1619\n",
      "[115]\tvalid_0's l2: 5349.28\tvalid_0's l1: 50.1635\n",
      "[116]\tvalid_0's l2: 5350.31\tvalid_0's l1: 50.177\n",
      "[117]\tvalid_0's l2: 5344.23\tvalid_0's l1: 50.157\n",
      "[118]\tvalid_0's l2: 5345.96\tvalid_0's l1: 50.1649\n",
      "[119]\tvalid_0's l2: 5345.75\tvalid_0's l1: 50.157\n",
      "[120]\tvalid_0's l2: 5343.27\tvalid_0's l1: 50.1494\n",
      "[121]\tvalid_0's l2: 5343.29\tvalid_0's l1: 50.1726\n",
      "[122]\tvalid_0's l2: 5342.74\tvalid_0's l1: 50.184\n",
      "[123]\tvalid_0's l2: 5346.36\tvalid_0's l1: 50.1779\n",
      "[124]\tvalid_0's l2: 5347.67\tvalid_0's l1: 50.1908\n",
      "[125]\tvalid_0's l2: 5347.55\tvalid_0's l1: 50.2057\n",
      "[126]\tvalid_0's l2: 5349.62\tvalid_0's l1: 50.2089\n",
      "[127]\tvalid_0's l2: 5352.81\tvalid_0's l1: 50.2234\n",
      "[128]\tvalid_0's l2: 5346.67\tvalid_0's l1: 50.2023\n",
      "[129]\tvalid_0's l2: 5348.71\tvalid_0's l1: 50.2106\n",
      "[130]\tvalid_0's l2: 5348.33\tvalid_0's l1: 50.2165\n",
      "[131]\tvalid_0's l2: 5350.58\tvalid_0's l1: 50.2258\n",
      "[132]\tvalid_0's l2: 5351.89\tvalid_0's l1: 50.2269\n",
      "[133]\tvalid_0's l2: 5353.9\tvalid_0's l1: 50.2245\n",
      "[134]\tvalid_0's l2: 5355.7\tvalid_0's l1: 50.2282\n",
      "[135]\tvalid_0's l2: 5363.34\tvalid_0's l1: 50.2678\n",
      "[136]\tvalid_0's l2: 5362.03\tvalid_0's l1: 50.2609\n",
      "[137]\tvalid_0's l2: 5362.54\tvalid_0's l1: 50.2642\n",
      "[138]\tvalid_0's l2: 5360.69\tvalid_0's l1: 50.2725\n",
      "[139]\tvalid_0's l2: 5362.92\tvalid_0's l1: 50.2496\n",
      "[140]\tvalid_0's l2: 5361.97\tvalid_0's l1: 50.2493\n",
      "[141]\tvalid_0's l2: 5365.78\tvalid_0's l1: 50.2794\n",
      "[142]\tvalid_0's l2: 5365.94\tvalid_0's l1: 50.2748\n",
      "[143]\tvalid_0's l2: 5365.22\tvalid_0's l1: 50.2765\n",
      "[144]\tvalid_0's l2: 5365.06\tvalid_0's l1: 50.2857\n",
      "[145]\tvalid_0's l2: 5366.65\tvalid_0's l1: 50.2911\n",
      "[146]\tvalid_0's l2: 5365.15\tvalid_0's l1: 50.2961\n",
      "[147]\tvalid_0's l2: 5364.62\tvalid_0's l1: 50.2899\n",
      "[148]\tvalid_0's l2: 5359.38\tvalid_0's l1: 50.277\n",
      "[149]\tvalid_0's l2: 5360.19\tvalid_0's l1: 50.2749\n",
      "[150]\tvalid_0's l2: 5361.1\tvalid_0's l1: 50.2855\n",
      "[151]\tvalid_0's l2: 5358.85\tvalid_0's l1: 50.2893\n",
      "[152]\tvalid_0's l2: 5363.96\tvalid_0's l1: 50.3099\n",
      "[153]\tvalid_0's l2: 5366.58\tvalid_0's l1: 50.3193\n",
      "[154]\tvalid_0's l2: 5360.05\tvalid_0's l1: 50.2997\n",
      "[155]\tvalid_0's l2: 5360.49\tvalid_0's l1: 50.3039\n",
      "[156]\tvalid_0's l2: 5363.29\tvalid_0's l1: 50.3274\n",
      "[157]\tvalid_0's l2: 5358.94\tvalid_0's l1: 50.3012\n",
      "[158]\tvalid_0's l2: 5353.18\tvalid_0's l1: 50.2929\n",
      "[159]\tvalid_0's l2: 5350.27\tvalid_0's l1: 50.2953\n",
      "[160]\tvalid_0's l2: 5348.1\tvalid_0's l1: 50.2902\n",
      "[161]\tvalid_0's l2: 5353.2\tvalid_0's l1: 50.3123\n",
      "[162]\tvalid_0's l2: 5347.8\tvalid_0's l1: 50.2946\n",
      "[163]\tvalid_0's l2: 5358.04\tvalid_0's l1: 50.3377\n",
      "Early stopping, best iteration is:\n",
      "[63]\tvalid_0's l2: 5322.07\tvalid_0's l1: 49.8446\n"
     ]
    }
   ],
   "source": [
    "import lightgbm as lgb\n",
    "\n",
    "feature_cols = train.columns.drop(['NU_INSCRICAO','NU_NOTA_MT'])\n",
    "\n",
    "dtrain = lgb.Dataset(train[feature_cols], label=train['NU_NOTA_MT'])\n",
    "dvalid = lgb.Dataset(valid[feature_cols], label=valid['NU_NOTA_MT'])\n",
    "dtest  = lgb.Dataset(test[feature_cols],  label=test['NU_NOTA_MT'])\n",
    "\n",
    "params = {\n",
    "    'boosting_type': 'gbdt',\n",
    "    'objective': 'regression',\n",
    "    'metric': {'l2', 'l1'},\n",
    "    'verbose': 0\n",
    "}\n",
    "\n",
    "bst = lgb.train(params, dtrain, num_boost_round=1000, valid_sets=dvalid, early_stopping_rounds=100)"
   ]
  },
  {
   "cell_type": "code",
   "execution_count": 0,
   "metadata": {
    "colab": {
     "base_uri": "https://localhost:8080/",
     "height": 34
    },
    "colab_type": "code",
    "id": "SrzQHMZL3Dbi",
    "outputId": "67cb3e19-59ac-46d0-d810-1f92e96db217"
   },
   "outputs": [
    {
     "name": "stdout",
     "output_type": "stream",
     "text": [
      "The rmse of prediction is: 70.38302047581291\n"
     ]
    }
   ],
   "source": [
    "from sklearn import metrics\n",
    "from sklearn.metrics import mean_squared_error\n",
    "\n",
    "ypred = bst.predict(test[feature_cols], num_iteration=bst.best_iteration)\n",
    "print('The rmse of prediction is:', mean_squared_error(test['NU_NOTA_MT'], ypred) ** 0.5)\n",
    "#The rmse of prediction is: 70.38302047581291"
   ]
  },
  {
   "cell_type": "code",
   "execution_count": 38,
   "metadata": {},
   "outputs": [
    {
     "name": "stdout",
     "output_type": "stream",
     "text": [
      "('The rmse of prediction is:', 70.38302047581291)\n"
     ]
    }
   ],
   "source": [
    "from sklearn import metrics\n",
    "from sklearn.metrics import mean_squared_error\n",
    "\n",
    "ypred = bst.predict(test[feature_cols], num_iteration=bst.best_iteration)\n",
    "print('The rmse of prediction is:', mean_squared_error(test['NU_NOTA_MT'], ypred) ** 0.5)\n",
    "#The rmse of prediction is: 70.38302047581291"
   ]
  },
  {
   "cell_type": "markdown",
   "metadata": {
    "colab_type": "text",
    "id": "T7wt7Eny8k96"
   },
   "source": [
    "#### **Submission**\n"
   ]
  },
  {
   "cell_type": "code",
   "execution_count": 39,
   "metadata": {
    "colab": {
     "base_uri": "https://localhost:8080/",
     "height": 34
    },
    "colab_type": "code",
    "id": "wi13rmyI8n3Y",
    "outputId": "aa5be200-5a5e-4382-b77f-5e70593cb4bc"
   },
   "outputs": [
    {
     "data": {
      "text/plain": [
       "46"
      ]
     },
     "execution_count": 39,
     "metadata": {},
     "output_type": "execute_result"
    }
   ],
   "source": [
    "feature_cols = df_test.columns.drop('NU_INSCRICAO')\n",
    "len(feature_cols)"
   ]
  },
  {
   "cell_type": "code",
   "execution_count": 40,
   "metadata": {
    "colab": {},
    "colab_type": "code",
    "id": "fkfTq82y8t6x"
   },
   "outputs": [],
   "source": [
    "ypred = bst.predict(df_test[feature_cols], num_iteration=bst.best_iteration)"
   ]
  },
  {
   "cell_type": "code",
   "execution_count": 41,
   "metadata": {
    "colab": {
     "base_uri": "https://localhost:8080/",
     "height": 34
    },
    "colab_type": "code",
    "id": "NiHi8p4z86RL",
    "outputId": "fbb07d8a-a078-41f2-ee8d-8178b76ac926"
   },
   "outputs": [
    {
     "data": {
      "text/plain": [
       "(4576L,)"
      ]
     },
     "execution_count": 41,
     "metadata": {},
     "output_type": "execute_result"
    }
   ],
   "source": [
    "sub= pd.Series(ypred, index=df_test['NU_INSCRICAO'].astype(np.str), name='NU_NOTA_MT')\n",
    "sub.shape"
   ]
  },
  {
   "cell_type": "code",
   "execution_count": 42,
   "metadata": {
    "colab": {
     "base_uri": "https://localhost:8080/",
     "height": 138
    },
    "colab_type": "code",
    "id": "2fHcyM7yDNr2",
    "outputId": "9f54fee7-b1ba-4710-873c-30ebe7c960bc"
   },
   "outputs": [
    {
     "data": {
      "text/plain": [
       "NU_INSCRICAO\n",
       "73ff9fcc02f0a99919906c942c2e1a1042cdcf98    473.178365\n",
       "71a95f9f1b91a82c65ad94abbdf9f54e6066f968    452.983060\n",
       "b38a03232f43b11c9d0788abaf060f7366053b6d    479.269681\n",
       "70b682d9a3636be23f6120fa9d6b164eb3c6002d      0.557012\n",
       "715494628a50142ce8cb17191cfe6d0f3cae0934    510.147070\n",
       "Name: NU_NOTA_MT, dtype: float64"
      ]
     },
     "execution_count": 42,
     "metadata": {},
     "output_type": "execute_result"
    }
   ],
   "source": [
    "sub.head()"
   ]
  },
  {
   "cell_type": "code",
   "execution_count": 43,
   "metadata": {
    "colab": {},
    "colab_type": "code",
    "id": "74IGYKUH9YII"
   },
   "outputs": [],
   "source": [
    "sub.to_csv(\"answer.csv\", header=True)"
   ]
  }
 ],
 "metadata": {
  "colab": {
   "name": "codanation.ipynb",
   "provenance": []
  },
  "kernelspec": {
   "display_name": "Python 2",
   "language": "python",
   "name": "python2"
  },
  "language_info": {
   "codemirror_mode": {
    "name": "ipython",
    "version": 2
   },
   "file_extension": ".py",
   "mimetype": "text/x-python",
   "name": "python",
   "nbconvert_exporter": "python",
   "pygments_lexer": "ipython2",
   "version": "2.7.16"
  }
 },
 "nbformat": 4,
 "nbformat_minor": 1
}
