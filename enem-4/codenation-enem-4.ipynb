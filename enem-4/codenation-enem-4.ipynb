{
 "cells": [
  {
   "cell_type": "markdown",
   "metadata": {
    "colab_type": "text",
    "id": "mYnLWWWArNkt"
   },
   "source": [
    "## **Codenation 2020** - ENEM - Desafio 4 (Semana 9)\n",
    "\n",
    "**Nome**: Camila Morais de Melo <br>\n",
    "**E-mail**: camila_moraismelo@hotmail.com \n",
    "\n",
    "**Desafio:** Descubra quem fez a prova do ENEM apenas para treinar\n",
    "\n",
    "**Pontos de Atenção:** Muitas universidades brasileiras utilizam o ENEM para selecionar seus futuros alunos e alunas. Isto é feito com uma média ponderada das notas das provas de matemática, ciências da natureza, linguagens e códigos, ciências humanas e redação, com os pesos abaixo:\n",
    "\n",
    "* matemática: 3\n",
    "*ciências da natureza: 2\n",
    "*linguagens e códigos: 1.5\n",
    "*ciências humanas: 1\n",
    "*redação: 3\n",
    "\n",
    "Alguns estudantes decidem realizar prova do ENEM de forma precoce, como um teste.\n",
    "\n",
    "No arquivo test.csv crie um modelo para prever quem fez a prova apenas para treino (coluna **IN_TREINEIRO**) de quem participou do ENEM 2016.\n",
    "\n",
    "Salve sua resposta em um arquivo chamado answer.csv com duas colunas: **NU_INSCRICAO** e **IN_TREINEIRO**.\n",
    "\n",
    "Faça o upload do arquivo answer.csv usando o botão “Submeter resposta”."
   ]
  },
  {
   "cell_type": "markdown",
   "metadata": {
    "colab_type": "text",
    "id": "LHR9m1Nxt42w"
   },
   "source": [
    "## **Setup**"
   ]
  },
  {
   "cell_type": "code",
   "execution_count": 1,
   "metadata": {
    "colab": {
     "base_uri": "https://localhost:8080/"
    },
    "colab_type": "code",
    "id": "94dcrfQOt8_r",
    "outputId": "11de0193-f615-4b77-e14e-786bd201104b"
   },
   "outputs": [],
   "source": [
    "# Pandas nos permite trabajar con DataFrames\n",
    "import pandas as pd\n",
    "# Para la visualización de datos\n",
    "import plotly.express as px\n",
    "import json\n",
    "import numpy as np\n",
    "import seaborn as sns\n",
    "import matplotlib.pyplot as plt\n",
    "\n",
    "# model\n",
    "from sklearn.impute import SimpleImputer\n",
    "from sklearn.metrics import accuracy_score\n",
    "from sklearn.model_selection import train_test_split\n",
    "from sklearn.ensemble import RandomForestClassifier,GradientBoostingClassifier ,VotingClassifier\n",
    "\n",
    "# roc curve and auc score\n",
    "from sklearn.metrics import roc_curve\n",
    "from sklearn.metrics import roc_auc_score\n",
    "from sklearn.preprocessing import LabelEncoder\n",
    "\n",
    "# show Colab Tables\n",
    "from IPython.display import display\n",
    "pd.set_option('display.max_columns', 100)\n",
    "pd.options.display.max_columns = 100\n",
    "\n",
    "#%matplotlib inline\n",
    "#%load_ext google.colab.data_table"
   ]
  },
  {
   "cell_type": "code",
   "execution_count": 3,
   "metadata": {
    "colab": {
     "base_uri": "https://localhost:8080/"
    },
    "colab_type": "code",
    "id": "8LOaIlM2sGop",
    "outputId": "c0a12c73-4ce7-495f-e0a2-d68326fd27ee"
   },
   "outputs": [],
   "source": [
    "#!wget https://s3-us-west-1.amazonaws.com/codenation-challenges/enem-ps/testfiles.zip\n",
    "#!unzip -o testfiles.zip"
   ]
  },
  {
   "cell_type": "code",
   "execution_count": 2,
   "metadata": {
    "colab": {
     "base_uri": "https://localhost:8080/"
    },
    "colab_type": "code",
    "id": "5kT1zr_ytRAp",
    "outputId": "31a924aa-acfd-4b30-ec63-56a3c5270130"
   },
   "outputs": [],
   "source": [
    "#!ls"
   ]
  },
  {
   "cell_type": "markdown",
   "metadata": {
    "colab_type": "text",
    "id": "eedK2l4EuH7F"
   },
   "source": [
    "## **Exploratório**"
   ]
  },
  {
   "cell_type": "code",
   "execution_count": 4,
   "metadata": {
    "colab": {},
    "colab_type": "code",
    "id": "vM9Qupe_JzLw"
   },
   "outputs": [],
   "source": [
    "## Funções\n",
    "def ler_arquivos(arquivo):\n",
    "  df = pd.read_csv(arquivo)  \n",
    "  print(\"Dimenções \",arquivo, \"(filas, columnas)  : \", df.shape)\n",
    "  return df\n",
    "\n",
    "def remover_valores(df,column):\n",
    "  df = df[(df[column].notnull())]\n",
    "  print(df.shape)\n",
    "  return df\n",
    "\n",
    "def missing_values(df_train,df_test):\n",
    "  percent_missing_train = df_train.isnull().sum() * 100 / len(df_train)\n",
    "  percent_missing_test = df_test.isnull().sum() * 100 / len(df_test)\n",
    "  missing_value_df = pd.DataFrame({'column_name': df_train.columns,\n",
    "                                  'percent_missing_train': percent_missing_train,\n",
    "                                  'percent_missing_test': percent_missing_test}).round(2)\n",
    "\n",
    "  missing_value_df.sort_values('percent_missing_train', inplace=True)\n",
    "  return missing_value_df"
   ]
  },
  {
   "cell_type": "code",
   "execution_count": 5,
   "metadata": {
    "colab": {
     "base_uri": "https://localhost:8080/"
    },
    "colab_type": "code",
    "id": "_29kfXdFulFy",
    "outputId": "a004b413-99e2-494c-892a-c2f0130c405b"
   },
   "outputs": [
    {
     "name": "stdout",
     "output_type": "stream",
     "text": [
      "('Dimen\\xc3\\xa7\\xc3\\xb5es ', 'train.csv', '(filas, columnas)  : ', (13730, 167))\n",
      "('Dimen\\xc3\\xa7\\xc3\\xb5es ', 'test.csv', '(filas, columnas)  : ', (4570, 43))\n"
     ]
    }
   ],
   "source": [
    "#Importa os dataframes e apresenta as dimenções \n",
    "df_training = ler_arquivos('train.csv')\n",
    "df_test = ler_arquivos('test.csv')"
   ]
  },
  {
   "cell_type": "code",
   "execution_count": 6,
   "metadata": {
    "colab": {
     "base_uri": "https://localhost:8080/"
    },
    "colab_type": "code",
    "id": "zE0rWkfPyOCz",
    "outputId": "2d6f3c15-6f6a-4cd6-ccf0-657d964219e9"
   },
   "outputs": [
    {
     "name": "stdout",
     "output_type": "stream",
     "text": [
      "(13730, 44)\n",
      "(4570, 43)\n"
     ]
    }
   ],
   "source": [
    "#Manter apenas as colunas existentes no modelo de teste\n",
    "#Neste caso fiz isso pois as dimenções eram diferentes\n",
    "col = df_test.columns\n",
    "#Acrescenta a variavel target\n",
    "col = col.append(pd.Index([\"IN_TREINEIRO\"]))\n",
    "\n",
    "df_training = df_training.filter(col)\n",
    "print(df_training.shape)\n",
    "print(df_test.shape)"
   ]
  },
  {
   "cell_type": "code",
   "execution_count": 7,
   "metadata": {
    "colab": {
     "base_uri": "https://localhost:8080/"
    },
    "colab_type": "code",
    "id": "FSJTP_8gu--m",
    "outputId": "57cbdf2e-8717-4394-c120-e08c4edc4c7e",
    "scrolled": true
   },
   "outputs": [
    {
     "data": {
      "text/plain": [
       "['Q025',\n",
       " 'Q024',\n",
       " 'Q026',\n",
       " 'Q047',\n",
       " 'Q027',\n",
       " 'Q006',\n",
       " 'Q002',\n",
       " 'SG_UF_RESIDENCIA',\n",
       " 'Q001',\n",
       " 'NU_INSCRICAO',\n",
       " 'TP_SEXO']"
      ]
     },
     "execution_count": 7,
     "metadata": {},
     "output_type": "execute_result"
    }
   ],
   "source": [
    "cat_var = [key for key in dict(df_training.dtypes)\n",
    "             if dict(df_training.dtypes)[key] in ['object'] ]\n",
    "\n",
    "cat_var"
   ]
  },
  {
   "cell_type": "code",
   "execution_count": 118,
   "metadata": {},
   "outputs": [
    {
     "data": {
      "text/plain": [
       "0    0.870138\n",
       "1    0.129862\n",
       "Name: IN_TREINEIRO, dtype: float64"
      ]
     },
     "execution_count": 118,
     "metadata": {},
     "output_type": "execute_result"
    }
   ],
   "source": [
    "#DataSet desalanceado\n",
    "df_training['IN_TREINEIRO'].value_counts(normalize=True)"
   ]
  },
  {
   "cell_type": "code",
   "execution_count": 11,
   "metadata": {
    "colab": {
     "base_uri": "https://localhost:8080/"
    },
    "colab_type": "code",
    "id": "xSWDN-ZjvN3O",
    "outputId": "2222e164-ccf4-4ca0-ed02-78714321b9ff"
   },
   "outputs": [
    {
     "name": "stderr",
     "output_type": "stream",
     "text": [
      "C:\\ProgramData\\Anaconda2\\lib\\site-packages\\pandas\\core\\series.py:1999: RuntimeWarning:\n",
      "\n",
      "invalid value encountered in rint\n",
      "\n"
     ]
    },
    {
     "data": {
      "text/html": [
       "<div>\n",
       "<style scoped>\n",
       "    .dataframe tbody tr th:only-of-type {\n",
       "        vertical-align: middle;\n",
       "    }\n",
       "\n",
       "    .dataframe tbody tr th {\n",
       "        vertical-align: top;\n",
       "    }\n",
       "\n",
       "    .dataframe thead th {\n",
       "        text-align: right;\n",
       "    }\n",
       "</style>\n",
       "<table border=\"1\" class=\"dataframe\">\n",
       "  <thead>\n",
       "    <tr style=\"text-align: right;\">\n",
       "      <th></th>\n",
       "      <th>column_name</th>\n",
       "      <th>percent_missing_test</th>\n",
       "      <th>percent_missing_train</th>\n",
       "    </tr>\n",
       "  </thead>\n",
       "  <tbody>\n",
       "    <tr>\n",
       "      <th>CO_UF_RESIDENCIA</th>\n",
       "      <td>NU_INSCRICAO</td>\n",
       "      <td>0.00</td>\n",
       "      <td>0.00</td>\n",
       "    </tr>\n",
       "    <tr>\n",
       "      <th>Q024</th>\n",
       "      <td>NU_NOTA_CN</td>\n",
       "      <td>0.00</td>\n",
       "      <td>0.00</td>\n",
       "    </tr>\n",
       "    <tr>\n",
       "      <th>Q025</th>\n",
       "      <td>NU_NOTA_CH</td>\n",
       "      <td>0.00</td>\n",
       "      <td>0.00</td>\n",
       "    </tr>\n",
       "    <tr>\n",
       "      <th>Q026</th>\n",
       "      <td>NU_NOTA_LC</td>\n",
       "      <td>0.00</td>\n",
       "      <td>0.00</td>\n",
       "    </tr>\n",
       "    <tr>\n",
       "      <th>Q047</th>\n",
       "      <td>TP_STATUS_REDACAO</td>\n",
       "      <td>0.00</td>\n",
       "      <td>0.00</td>\n",
       "    </tr>\n",
       "    <tr>\n",
       "      <th>SG_UF_RESIDENCIA</th>\n",
       "      <td>NU_NOTA_COMP1</td>\n",
       "      <td>0.00</td>\n",
       "      <td>0.00</td>\n",
       "    </tr>\n",
       "    <tr>\n",
       "      <th>TP_ANO_CONCLUIU</th>\n",
       "      <td>NU_NOTA_COMP2</td>\n",
       "      <td>0.00</td>\n",
       "      <td>0.00</td>\n",
       "    </tr>\n",
       "    <tr>\n",
       "      <th>TP_COR_RACA</th>\n",
       "      <td>NU_NOTA_COMP3</td>\n",
       "      <td>0.00</td>\n",
       "      <td>0.00</td>\n",
       "    </tr>\n",
       "    <tr>\n",
       "      <th>TP_ESCOLA</th>\n",
       "      <td>NU_NOTA_REDACAO</td>\n",
       "      <td>0.00</td>\n",
       "      <td>0.00</td>\n",
       "    </tr>\n",
       "    <tr>\n",
       "      <th>TP_LINGUA</th>\n",
       "      <td>Q001</td>\n",
       "      <td>0.00</td>\n",
       "      <td>0.00</td>\n",
       "    </tr>\n",
       "    <tr>\n",
       "      <th>TP_NACIONALIDADE</th>\n",
       "      <td>Q002</td>\n",
       "      <td>0.00</td>\n",
       "      <td>0.00</td>\n",
       "    </tr>\n",
       "    <tr>\n",
       "      <th>TP_PRESENCA_CH</th>\n",
       "      <td>Q006</td>\n",
       "      <td>0.00</td>\n",
       "      <td>0.00</td>\n",
       "    </tr>\n",
       "    <tr>\n",
       "      <th>TP_PRESENCA_CN</th>\n",
       "      <td>Q024</td>\n",
       "      <td>0.00</td>\n",
       "      <td>0.00</td>\n",
       "    </tr>\n",
       "    <tr>\n",
       "      <th>TP_PRESENCA_LC</th>\n",
       "      <td>Q025</td>\n",
       "      <td>0.00</td>\n",
       "      <td>0.00</td>\n",
       "    </tr>\n",
       "    <tr>\n",
       "      <th>TP_PRESENCA_MT</th>\n",
       "      <td>Q026</td>\n",
       "      <td>0.00</td>\n",
       "      <td>0.00</td>\n",
       "    </tr>\n",
       "    <tr>\n",
       "      <th>TP_SEXO</th>\n",
       "      <td>Q027</td>\n",
       "      <td>0.00</td>\n",
       "      <td>0.00</td>\n",
       "    </tr>\n",
       "    <tr>\n",
       "      <th>Q006</th>\n",
       "      <td>TP_PRESENCA_MT</td>\n",
       "      <td>0.00</td>\n",
       "      <td>0.00</td>\n",
       "    </tr>\n",
       "    <tr>\n",
       "      <th>Q002</th>\n",
       "      <td>TP_PRESENCA_LC</td>\n",
       "      <td>0.00</td>\n",
       "      <td>0.00</td>\n",
       "    </tr>\n",
       "    <tr>\n",
       "      <th>Q001</th>\n",
       "      <td>TP_PRESENCA_CH</td>\n",
       "      <td>0.00</td>\n",
       "      <td>0.00</td>\n",
       "    </tr>\n",
       "    <tr>\n",
       "      <th>IN_TREINEIRO</th>\n",
       "      <td>TP_ESCOLA</td>\n",
       "      <td>NaN</td>\n",
       "      <td>0.00</td>\n",
       "    </tr>\n",
       "    <tr>\n",
       "      <th>IN_BAIXA_VISAO</th>\n",
       "      <td>CO_UF_RESIDENCIA</td>\n",
       "      <td>0.00</td>\n",
       "      <td>0.00</td>\n",
       "    </tr>\n",
       "    <tr>\n",
       "      <th>IN_CEGUEIRA</th>\n",
       "      <td>SG_UF_RESIDENCIA</td>\n",
       "      <td>0.00</td>\n",
       "      <td>0.00</td>\n",
       "    </tr>\n",
       "    <tr>\n",
       "      <th>IN_DISCALCULIA</th>\n",
       "      <td>NU_IDADE</td>\n",
       "      <td>0.00</td>\n",
       "      <td>0.00</td>\n",
       "    </tr>\n",
       "    <tr>\n",
       "      <th>IN_DISLEXIA</th>\n",
       "      <td>TP_SEXO</td>\n",
       "      <td>0.00</td>\n",
       "      <td>0.00</td>\n",
       "    </tr>\n",
       "    <tr>\n",
       "      <th>IN_GESTANTE</th>\n",
       "      <td>TP_COR_RACA</td>\n",
       "      <td>0.00</td>\n",
       "      <td>0.00</td>\n",
       "    </tr>\n",
       "    <tr>\n",
       "      <th>IN_IDOSO</th>\n",
       "      <td>TP_NACIONALIDADE</td>\n",
       "      <td>0.00</td>\n",
       "      <td>0.00</td>\n",
       "    </tr>\n",
       "    <tr>\n",
       "      <th>IN_SABATISTA</th>\n",
       "      <td>TP_ST_CONCLUSAO</td>\n",
       "      <td>0.00</td>\n",
       "      <td>0.00</td>\n",
       "    </tr>\n",
       "    <tr>\n",
       "      <th>IN_SURDEZ</th>\n",
       "      <td>TP_ANO_CONCLUIU</td>\n",
       "      <td>0.00</td>\n",
       "      <td>0.00</td>\n",
       "    </tr>\n",
       "    <tr>\n",
       "      <th>NU_IDADE</th>\n",
       "      <td>TP_ENSINO</td>\n",
       "      <td>0.00</td>\n",
       "      <td>0.00</td>\n",
       "    </tr>\n",
       "    <tr>\n",
       "      <th>TP_ST_CONCLUSAO</th>\n",
       "      <td>IN_TREINEIRO</td>\n",
       "      <td>0.00</td>\n",
       "      <td>0.00</td>\n",
       "    </tr>\n",
       "    <tr>\n",
       "      <th>NU_INSCRICAO</th>\n",
       "      <td>TP_DEPENDENCIA_ADM_ESC</td>\n",
       "      <td>0.00</td>\n",
       "      <td>0.00</td>\n",
       "    </tr>\n",
       "    <tr>\n",
       "      <th>NU_NOTA_CH</th>\n",
       "      <td>IN_BAIXA_VISAO</td>\n",
       "      <td>24.33</td>\n",
       "      <td>24.68</td>\n",
       "    </tr>\n",
       "    <tr>\n",
       "      <th>NU_NOTA_CN</th>\n",
       "      <td>IN_CEGUEIRA</td>\n",
       "      <td>24.33</td>\n",
       "      <td>24.68</td>\n",
       "    </tr>\n",
       "    <tr>\n",
       "      <th>NU_NOTA_COMP5</th>\n",
       "      <td>IN_GESTANTE</td>\n",
       "      <td>25.60</td>\n",
       "      <td>26.20</td>\n",
       "    </tr>\n",
       "    <tr>\n",
       "      <th>NU_NOTA_COMP1</th>\n",
       "      <td>IN_SURDEZ</td>\n",
       "      <td>25.60</td>\n",
       "      <td>26.20</td>\n",
       "    </tr>\n",
       "    <tr>\n",
       "      <th>NU_NOTA_COMP2</th>\n",
       "      <td>IN_DISLEXIA</td>\n",
       "      <td>25.60</td>\n",
       "      <td>26.20</td>\n",
       "    </tr>\n",
       "    <tr>\n",
       "      <th>NU_NOTA_COMP3</th>\n",
       "      <td>IN_DISCALCULIA</td>\n",
       "      <td>25.60</td>\n",
       "      <td>26.20</td>\n",
       "    </tr>\n",
       "    <tr>\n",
       "      <th>NU_NOTA_COMP4</th>\n",
       "      <td>IN_SABATISTA</td>\n",
       "      <td>25.60</td>\n",
       "      <td>26.20</td>\n",
       "    </tr>\n",
       "    <tr>\n",
       "      <th>TP_STATUS_REDACAO</th>\n",
       "      <td>Q047</td>\n",
       "      <td>25.60</td>\n",
       "      <td>26.20</td>\n",
       "    </tr>\n",
       "    <tr>\n",
       "      <th>NU_NOTA_REDACAO</th>\n",
       "      <td>TP_PRESENCA_CN</td>\n",
       "      <td>25.60</td>\n",
       "      <td>26.20</td>\n",
       "    </tr>\n",
       "    <tr>\n",
       "      <th>NU_NOTA_LC</th>\n",
       "      <td>IN_IDOSO</td>\n",
       "      <td>25.60</td>\n",
       "      <td>26.20</td>\n",
       "    </tr>\n",
       "    <tr>\n",
       "      <th>Q027</th>\n",
       "      <td>TP_LINGUA</td>\n",
       "      <td>53.33</td>\n",
       "      <td>53.70</td>\n",
       "    </tr>\n",
       "    <tr>\n",
       "      <th>TP_DEPENDENCIA_ADM_ESC</th>\n",
       "      <td>NU_NOTA_COMP4</td>\n",
       "      <td>68.80</td>\n",
       "      <td>68.81</td>\n",
       "    </tr>\n",
       "    <tr>\n",
       "      <th>TP_ENSINO</th>\n",
       "      <td>NU_NOTA_COMP5</td>\n",
       "      <td>68.80</td>\n",
       "      <td>68.81</td>\n",
       "    </tr>\n",
       "  </tbody>\n",
       "</table>\n",
       "</div>"
      ],
      "text/plain": [
       "                                   column_name  percent_missing_test  \\\n",
       "CO_UF_RESIDENCIA                  NU_INSCRICAO                  0.00   \n",
       "Q024                                NU_NOTA_CN                  0.00   \n",
       "Q025                                NU_NOTA_CH                  0.00   \n",
       "Q026                                NU_NOTA_LC                  0.00   \n",
       "Q047                         TP_STATUS_REDACAO                  0.00   \n",
       "SG_UF_RESIDENCIA                 NU_NOTA_COMP1                  0.00   \n",
       "TP_ANO_CONCLUIU                  NU_NOTA_COMP2                  0.00   \n",
       "TP_COR_RACA                      NU_NOTA_COMP3                  0.00   \n",
       "TP_ESCOLA                      NU_NOTA_REDACAO                  0.00   \n",
       "TP_LINGUA                                 Q001                  0.00   \n",
       "TP_NACIONALIDADE                          Q002                  0.00   \n",
       "TP_PRESENCA_CH                            Q006                  0.00   \n",
       "TP_PRESENCA_CN                            Q024                  0.00   \n",
       "TP_PRESENCA_LC                            Q025                  0.00   \n",
       "TP_PRESENCA_MT                            Q026                  0.00   \n",
       "TP_SEXO                                   Q027                  0.00   \n",
       "Q006                            TP_PRESENCA_MT                  0.00   \n",
       "Q002                            TP_PRESENCA_LC                  0.00   \n",
       "Q001                            TP_PRESENCA_CH                  0.00   \n",
       "IN_TREINEIRO                         TP_ESCOLA                   NaN   \n",
       "IN_BAIXA_VISAO                CO_UF_RESIDENCIA                  0.00   \n",
       "IN_CEGUEIRA                   SG_UF_RESIDENCIA                  0.00   \n",
       "IN_DISCALCULIA                        NU_IDADE                  0.00   \n",
       "IN_DISLEXIA                            TP_SEXO                  0.00   \n",
       "IN_GESTANTE                        TP_COR_RACA                  0.00   \n",
       "IN_IDOSO                      TP_NACIONALIDADE                  0.00   \n",
       "IN_SABATISTA                   TP_ST_CONCLUSAO                  0.00   \n",
       "IN_SURDEZ                      TP_ANO_CONCLUIU                  0.00   \n",
       "NU_IDADE                             TP_ENSINO                  0.00   \n",
       "TP_ST_CONCLUSAO                   IN_TREINEIRO                  0.00   \n",
       "NU_INSCRICAO            TP_DEPENDENCIA_ADM_ESC                  0.00   \n",
       "NU_NOTA_CH                      IN_BAIXA_VISAO                 24.33   \n",
       "NU_NOTA_CN                         IN_CEGUEIRA                 24.33   \n",
       "NU_NOTA_COMP5                      IN_GESTANTE                 25.60   \n",
       "NU_NOTA_COMP1                        IN_SURDEZ                 25.60   \n",
       "NU_NOTA_COMP2                      IN_DISLEXIA                 25.60   \n",
       "NU_NOTA_COMP3                   IN_DISCALCULIA                 25.60   \n",
       "NU_NOTA_COMP4                     IN_SABATISTA                 25.60   \n",
       "TP_STATUS_REDACAO                         Q047                 25.60   \n",
       "NU_NOTA_REDACAO                 TP_PRESENCA_CN                 25.60   \n",
       "NU_NOTA_LC                            IN_IDOSO                 25.60   \n",
       "Q027                                 TP_LINGUA                 53.33   \n",
       "TP_DEPENDENCIA_ADM_ESC           NU_NOTA_COMP4                 68.80   \n",
       "TP_ENSINO                        NU_NOTA_COMP5                 68.80   \n",
       "\n",
       "                        percent_missing_train  \n",
       "CO_UF_RESIDENCIA                         0.00  \n",
       "Q024                                     0.00  \n",
       "Q025                                     0.00  \n",
       "Q026                                     0.00  \n",
       "Q047                                     0.00  \n",
       "SG_UF_RESIDENCIA                         0.00  \n",
       "TP_ANO_CONCLUIU                          0.00  \n",
       "TP_COR_RACA                              0.00  \n",
       "TP_ESCOLA                                0.00  \n",
       "TP_LINGUA                                0.00  \n",
       "TP_NACIONALIDADE                         0.00  \n",
       "TP_PRESENCA_CH                           0.00  \n",
       "TP_PRESENCA_CN                           0.00  \n",
       "TP_PRESENCA_LC                           0.00  \n",
       "TP_PRESENCA_MT                           0.00  \n",
       "TP_SEXO                                  0.00  \n",
       "Q006                                     0.00  \n",
       "Q002                                     0.00  \n",
       "Q001                                     0.00  \n",
       "IN_TREINEIRO                             0.00  \n",
       "IN_BAIXA_VISAO                           0.00  \n",
       "IN_CEGUEIRA                              0.00  \n",
       "IN_DISCALCULIA                           0.00  \n",
       "IN_DISLEXIA                              0.00  \n",
       "IN_GESTANTE                              0.00  \n",
       "IN_IDOSO                                 0.00  \n",
       "IN_SABATISTA                             0.00  \n",
       "IN_SURDEZ                                0.00  \n",
       "NU_IDADE                                 0.00  \n",
       "TP_ST_CONCLUSAO                          0.00  \n",
       "NU_INSCRICAO                             0.00  \n",
       "NU_NOTA_CH                              24.68  \n",
       "NU_NOTA_CN                              24.68  \n",
       "NU_NOTA_COMP5                           26.20  \n",
       "NU_NOTA_COMP1                           26.20  \n",
       "NU_NOTA_COMP2                           26.20  \n",
       "NU_NOTA_COMP3                           26.20  \n",
       "NU_NOTA_COMP4                           26.20  \n",
       "TP_STATUS_REDACAO                       26.20  \n",
       "NU_NOTA_REDACAO                         26.20  \n",
       "NU_NOTA_LC                              26.20  \n",
       "Q027                                    53.70  \n",
       "TP_DEPENDENCIA_ADM_ESC                  68.81  \n",
       "TP_ENSINO                               68.81  "
      ]
     },
     "execution_count": 11,
     "metadata": {},
     "output_type": "execute_result"
    }
   ],
   "source": [
    "ms = missing_values(df_training,df_test)\n",
    "ms"
   ]
  },
  {
   "cell_type": "code",
   "execution_count": 16,
   "metadata": {
    "colab": {},
    "colab_type": "code",
    "id": "OPT37cG165qY"
   },
   "outputs": [],
   "source": [
    "#Transforma features categoricas em numericas\n",
    "lb_make = LabelEncoder()\n",
    "df_training[\"Q001\"] = lb_make.fit_transform(df_training[\"Q001\"])\n",
    "df_test[\"Q001\"] = lb_make.transform(df_test[\"Q001\"])\n",
    "\n",
    "lb_make = LabelEncoder()\n",
    "df_training[\"Q002\"] = lb_make.fit_transform(df_training[\"Q002\"])\n",
    "df_test[\"Q002\"] = lb_make.transform(df_test[\"Q002\"])\n",
    "\n",
    "lb_make = LabelEncoder()\n",
    "df_training[\"Q006\"] = lb_make.fit_transform(df_training[\"Q006\"])\n",
    "df_test[\"Q006\"] = lb_make.transform(df_test[\"Q006\"])\n",
    "\n",
    "lb_make = LabelEncoder()\n",
    "df_training[\"Q024\"] = lb_make.fit_transform(df_training[\"Q024\"])\n",
    "df_test[\"Q024\"] = lb_make.transform(df_test[\"Q024\"])\n",
    "\n",
    "lb_make = LabelEncoder()\n",
    "df_training[\"Q025\"] = lb_make.fit_transform(df_training[\"Q025\"])\n",
    "df_test[\"Q025\"] = lb_make.transform(df_test[\"Q025\"])\n",
    "\n",
    "lb_make = LabelEncoder()\n",
    "df_training[\"Q026\"] = lb_make.fit_transform(df_training[\"Q026\"])\n",
    "df_test[\"Q026\"] = lb_make.transform(df_test[\"Q026\"])\n",
    "\n",
    "lb_make = LabelEncoder()\n",
    "df_training[\"Q047\"] = lb_make.fit_transform(df_training[\"Q047\"])\n",
    "df_test[\"Q047\"] = lb_make.transform(df_test[\"Q047\"])\n",
    "\n",
    "lb_make = LabelEncoder()\n",
    "df_training[\"TP_SEXO\"] = lb_make.fit_transform(df_training[\"TP_SEXO\"])\n",
    "df_test[\"TP_SEXO\"] = lb_make.transform(df_test[\"TP_SEXO\"])\n",
    "\n",
    "lb_make = LabelEncoder()\n",
    "df_training[\"SG_UF_RESIDENCIA\"] = lb_make.fit_transform(df_training[\"SG_UF_RESIDENCIA\"])\n",
    "df_test[\"SG_UF_RESIDENCIA\"] = lb_make.transform(df_test[\"SG_UF_RESIDENCIA\"])\n",
    "\n",
    "#lb_make = LabelEncoder()\n",
    "#df_training[\"CO_PROVA_CN\"] = lb_make.fit_transform(df_training[\"CO_PROVA_CN\"])\n",
    "#df_test[\"CO_PROVA_CN\"] = lb_make.transform(df_test[\"CO_PROVA_CN\"])\n",
    "\n",
    "#lb_make = LabelEncoder()\n",
    "#df_training[\"CO_PROVA_CH\"] = lb_make.fit_transform(df_training[\"CO_PROVA_CH\"])\n",
    "#df_test[\"CO_PROVA_CH\"] = lb_make.transform(df_test[\"CO_PROVA_CH\"])\n",
    "\n",
    "#lb_make = LabelEncoder()\n",
    "#df_training[\"CO_PROVA_LC\"] = lb_make.fit_transform(df_training[\"CO_PROVA_LC\"])\n",
    "#df_test[\"CO_PROVA_LC\"] = lb_make.transform(df_test[\"CO_PROVA_LC\"])\n",
    "\n",
    "#b_make = LabelEncoder()\n",
    "#df_training[\"CO_PROVA_MT\"] = lb_make.fit_transform(df_training[\"CO_PROVA_MT\"])\n",
    "#df_test[\"CO_PROVA_MT\"] = lb_make.transform(df_test[\"CO_PROVA_MT\"])"
   ]
  },
  {
   "cell_type": "code",
   "execution_count": 17,
   "metadata": {
    "colab": {},
    "colab_type": "code",
    "id": "ngFnYcOS_HGl"
   },
   "outputs": [],
   "source": [
    "#Cria valor NA para P:Com que idade você começou a exercer uma atividade remunerada?\n",
    "df_training['Q027'] = df_training.Q027.fillna(\"NA\")\n",
    "df_test['Q027'] = df_test.Q027.fillna(\"NA\")\n",
    "\n",
    "lb_make = LabelEncoder()\n",
    "df_training[\"Q027\"] = lb_make.fit_transform(df_training[\"Q027\"])\n",
    "df_test[\"Q027\"] = lb_make.transform(df_test[\"Q027\"])"
   ]
  },
  {
   "cell_type": "code",
   "execution_count": 18,
   "metadata": {
    "colab": {
     "base_uri": "https://localhost:8080/"
    },
    "colab_type": "code",
    "id": "wyGbqFybLc5e",
    "outputId": "a58d8580-bf4b-4dee-d3f9-a98157e6fa04"
   },
   "outputs": [
    {
     "data": {
      "text/plain": [
       "array([ 7, -1,  5,  4, 12,  2,  3,  1,  9,  0,  8,  6, 10, 11],\n",
       "      dtype=int64)"
      ]
     },
     "execution_count": 18,
     "metadata": {},
     "output_type": "execute_result"
    }
   ],
   "source": [
    "#Substitui o NA por um valor negativo\n",
    "df_training['Q027'] = df_training.Q027.replace(to_replace=13,value=-1)\n",
    "df_test['Q027'] = df_test.Q027.replace(to_replace=13,value=-1)\n",
    "\n",
    "df_training.Q027.unique()"
   ]
  },
  {
   "cell_type": "code",
   "execution_count": 19,
   "metadata": {
    "colab": {
     "base_uri": "https://localhost:8080/"
    },
    "colab_type": "code",
    "id": "kN-DfHDG-snH",
    "outputId": "2cf35984-4d0d-4b52-f5f4-36899afda25c"
   },
   "outputs": [
    {
     "name": "stdout",
     "output_type": "stream",
     "text": [
      "['NU_INSCRICAO']\n"
     ]
    }
   ],
   "source": [
    "cat_var = [key for key in dict(df_training.dtypes)\n",
    "             if dict(df_training.dtypes)[key] in ['object'] ]\n",
    "\n",
    "print(cat_var)"
   ]
  },
  {
   "cell_type": "markdown",
   "metadata": {
    "colab_type": "text",
    "id": "zS-q8dmSNcXb"
   },
   "source": [
    "## **Tratamento dos nulos e enriquecimento dos dados**"
   ]
  },
  {
   "cell_type": "code",
   "execution_count": 61,
   "metadata": {
    "colab": {
     "base_uri": "https://localhost:8080/",
     "height": 86
    },
    "colab_type": "code",
    "id": "DhvsI4xLOTdR",
    "outputId": "975e0c5e-4ecf-4eb1-856b-a2eaf0362416"
   },
   "outputs": [
    {
     "data": {
      "text/plain": [
       "0    0.870138\n",
       "1    0.129862\n",
       "Name: IN_TREINEIRO, dtype: float64"
      ]
     },
     "execution_count": 61,
     "metadata": {},
     "output_type": "execute_result"
    }
   ],
   "source": [
    "df_training.IN_TREINEIRO.value_counts(normalize=True)"
   ]
  },
  {
   "cell_type": "code",
   "execution_count": 21,
   "metadata": {
    "colab": {
     "base_uri": "https://localhost:8080/",
     "height": 86
    },
    "colab_type": "code",
    "id": "xaM_nGAZO1CZ",
    "outputId": "98c8acba-e20f-4400-d8de-ed47ab33ad5e"
   },
   "outputs": [
    {
     "data": {
      "text/plain": [
       "1.0    0.971158\n",
       "3.0    0.026948\n",
       "2.0    0.001894\n",
       "Name: TP_ENSINO, dtype: float64"
      ]
     },
     "execution_count": 21,
     "metadata": {},
     "output_type": "execute_result"
    }
   ],
   "source": [
    "df_training['TP_ENSINO'] = df_training.TP_ENSINO.fillna(1)\n",
    "df_test['TP_ENSINO'] = df_training.TP_ENSINO.fillna(1)\n",
    "\n",
    "df_training.TP_ENSINO.value_counts(normalize=True)"
   ]
  },
  {
   "cell_type": "code",
   "execution_count": 23,
   "metadata": {
    "colab": {},
    "colab_type": "code",
    "id": "LFigrgVIUZQe"
   },
   "outputs": [],
   "source": [
    "#Notas NA são informadas como -1 pois não foram informadas e há notas atualmente como 0 para features aqui atualizadas\n",
    "df_training['NU_NOTA_CH'] = df_training.TP_ENSINO.fillna(-1)\n",
    "df_test['NU_NOTA_CH'] = df_training.TP_ENSINO.fillna(-1)\n",
    "\n",
    "df_training['NU_NOTA_CN'] = df_training.TP_ENSINO.fillna(-1)\n",
    "df_test['NU_NOTA_CN'] = df_training.TP_ENSINO.fillna(-1)\n",
    "\n",
    "df_training['NU_NOTA_LC'] = df_training.TP_ENSINO.fillna(-1)\n",
    "df_test['NU_NOTA_LC'] = df_training.TP_ENSINO.fillna(-1)\n",
    "\n",
    "df_training['NU_NOTA_REDACAO'] = df_training.TP_ENSINO.fillna(-1)\n",
    "df_test['NU_NOTA_REDACAO'] = df_training.TP_ENSINO.fillna(-1)\n",
    "\n",
    "df_training['NU_NOTA_COMP5'] = df_training.TP_ENSINO.fillna(-1)\n",
    "df_test['NU_NOTA_COMP5'] = df_training.TP_ENSINO.fillna(-1)\n",
    "\n",
    "df_training['NU_NOTA_COMP4'] = df_training.TP_ENSINO.fillna(-1)\n",
    "df_test['NU_NOTA_COMP4'] = df_training.TP_ENSINO.fillna(-1)\n",
    "\n",
    "df_training['NU_NOTA_COMP3'] = df_training.TP_ENSINO.fillna(-1)\n",
    "df_test['NU_NOTA_COMP3'] = df_training.TP_ENSINO.fillna(-1)\n",
    "\n",
    "df_training['NU_NOTA_COMP2'] = df_training.TP_ENSINO.fillna(-1)\n",
    "df_test['NU_NOTA_COMP2'] = df_training.TP_ENSINO.fillna(-1)\n",
    "\n",
    "df_training['NU_NOTA_COMP1'] = df_training.TP_ENSINO.fillna(-1)\n",
    "df_test['NU_NOTA_COMP1'] = df_training.TP_ENSINO.fillna(-1)\n",
    "\n",
    "df_training['TP_STATUS_REDACAO'] = df_training.TP_ENSINO.fillna(-1)\n",
    "df_test['TP_STATUS_REDACAO'] = df_training.TP_ENSINO.fillna(-1)\n",
    "\n",
    "#Nota mínima determinada para não gerar no modelo nota negativa\n",
    "#df_training['NU_NOTA_MT'] = df_training.NU_NOTA_MT.fillna(0)"
   ]
  },
  {
   "cell_type": "code",
   "execution_count": 26,
   "metadata": {
    "colab": {},
    "colab_type": "code",
    "id": "6TpteqhGQo3b"
   },
   "outputs": [],
   "source": [
    "# TP_DEPENDENCIA_ADM_ESC: Dependência administrativa (Escola)\n",
    "# 1\tFederal\n",
    "# 2\tEstadual\n",
    "# 3\tMunicipal\n",
    "# 4\tPrivada\n",
    "# NOVO: 5 NA\n",
    "#\n",
    "# TP_ESCOLA: Tipo de escola do Ensino Médio\n",
    "# 1\tNão Respondeu\n",
    "# 4\tExterior\n",
    "\n",
    "#Considerar que os valores faltantes são de Escolas Estaduais\n",
    "df_training['TP_DEPENDENCIA_ADM_ESC'] = df_training.TP_DEPENDENCIA_ADM_ESC.fillna(2)\n",
    "df_test['TP_DEPENDENCIA_ADM_ESC'] = df_training.TP_DEPENDENCIA_ADM_ESC.fillna(2)"
   ]
  },
  {
   "cell_type": "code",
   "execution_count": 25,
   "metadata": {
    "colab": {
     "base_uri": "https://localhost:8080/",
     "height": 596
    },
    "colab_type": "code",
    "id": "CBgOqMoNNxlU",
    "outputId": "b31bc916-d4d5-4820-abcb-856541f238ef"
   },
   "outputs": [
    {
     "data": {
      "text/html": [
       "<div>\n",
       "<style scoped>\n",
       "    .dataframe tbody tr th:only-of-type {\n",
       "        vertical-align: middle;\n",
       "    }\n",
       "\n",
       "    .dataframe tbody tr th {\n",
       "        vertical-align: top;\n",
       "    }\n",
       "\n",
       "    .dataframe thead th {\n",
       "        text-align: right;\n",
       "    }\n",
       "</style>\n",
       "<table border=\"1\" class=\"dataframe\">\n",
       "  <thead>\n",
       "    <tr style=\"text-align: right;\">\n",
       "      <th></th>\n",
       "      <th>column_name</th>\n",
       "      <th>percent_missing_test</th>\n",
       "      <th>percent_missing_train</th>\n",
       "    </tr>\n",
       "  </thead>\n",
       "  <tbody>\n",
       "    <tr>\n",
       "      <th>CO_UF_RESIDENCIA</th>\n",
       "      <td>NU_INSCRICAO</td>\n",
       "      <td>0.0</td>\n",
       "      <td>0.0</td>\n",
       "    </tr>\n",
       "    <tr>\n",
       "      <th>Q024</th>\n",
       "      <td>NU_NOTA_CN</td>\n",
       "      <td>0.0</td>\n",
       "      <td>0.0</td>\n",
       "    </tr>\n",
       "    <tr>\n",
       "      <th>Q025</th>\n",
       "      <td>NU_NOTA_CH</td>\n",
       "      <td>0.0</td>\n",
       "      <td>0.0</td>\n",
       "    </tr>\n",
       "    <tr>\n",
       "      <th>Q026</th>\n",
       "      <td>NU_NOTA_LC</td>\n",
       "      <td>0.0</td>\n",
       "      <td>0.0</td>\n",
       "    </tr>\n",
       "    <tr>\n",
       "      <th>Q027</th>\n",
       "      <td>TP_LINGUA</td>\n",
       "      <td>0.0</td>\n",
       "      <td>0.0</td>\n",
       "    </tr>\n",
       "    <tr>\n",
       "      <th>Q047</th>\n",
       "      <td>TP_STATUS_REDACAO</td>\n",
       "      <td>0.0</td>\n",
       "      <td>0.0</td>\n",
       "    </tr>\n",
       "    <tr>\n",
       "      <th>SG_UF_RESIDENCIA</th>\n",
       "      <td>NU_NOTA_COMP1</td>\n",
       "      <td>0.0</td>\n",
       "      <td>0.0</td>\n",
       "    </tr>\n",
       "    <tr>\n",
       "      <th>TP_ANO_CONCLUIU</th>\n",
       "      <td>NU_NOTA_COMP2</td>\n",
       "      <td>0.0</td>\n",
       "      <td>0.0</td>\n",
       "    </tr>\n",
       "    <tr>\n",
       "      <th>TP_COR_RACA</th>\n",
       "      <td>NU_NOTA_COMP3</td>\n",
       "      <td>0.0</td>\n",
       "      <td>0.0</td>\n",
       "    </tr>\n",
       "    <tr>\n",
       "      <th>Q006</th>\n",
       "      <td>TP_PRESENCA_MT</td>\n",
       "      <td>0.0</td>\n",
       "      <td>0.0</td>\n",
       "    </tr>\n",
       "    <tr>\n",
       "      <th>TP_DEPENDENCIA_ADM_ESC</th>\n",
       "      <td>NU_NOTA_COMP4</td>\n",
       "      <td>0.0</td>\n",
       "      <td>0.0</td>\n",
       "    </tr>\n",
       "    <tr>\n",
       "      <th>TP_ESCOLA</th>\n",
       "      <td>NU_NOTA_REDACAO</td>\n",
       "      <td>0.0</td>\n",
       "      <td>0.0</td>\n",
       "    </tr>\n",
       "    <tr>\n",
       "      <th>TP_LINGUA</th>\n",
       "      <td>Q001</td>\n",
       "      <td>0.0</td>\n",
       "      <td>0.0</td>\n",
       "    </tr>\n",
       "    <tr>\n",
       "      <th>TP_NACIONALIDADE</th>\n",
       "      <td>Q002</td>\n",
       "      <td>0.0</td>\n",
       "      <td>0.0</td>\n",
       "    </tr>\n",
       "    <tr>\n",
       "      <th>TP_PRESENCA_CH</th>\n",
       "      <td>Q006</td>\n",
       "      <td>0.0</td>\n",
       "      <td>0.0</td>\n",
       "    </tr>\n",
       "    <tr>\n",
       "      <th>TP_PRESENCA_CN</th>\n",
       "      <td>Q024</td>\n",
       "      <td>0.0</td>\n",
       "      <td>0.0</td>\n",
       "    </tr>\n",
       "    <tr>\n",
       "      <th>TP_PRESENCA_LC</th>\n",
       "      <td>Q025</td>\n",
       "      <td>0.0</td>\n",
       "      <td>0.0</td>\n",
       "    </tr>\n",
       "    <tr>\n",
       "      <th>TP_PRESENCA_MT</th>\n",
       "      <td>Q026</td>\n",
       "      <td>0.0</td>\n",
       "      <td>0.0</td>\n",
       "    </tr>\n",
       "    <tr>\n",
       "      <th>TP_SEXO</th>\n",
       "      <td>Q027</td>\n",
       "      <td>0.0</td>\n",
       "      <td>0.0</td>\n",
       "    </tr>\n",
       "    <tr>\n",
       "      <th>TP_ENSINO</th>\n",
       "      <td>NU_NOTA_COMP5</td>\n",
       "      <td>0.0</td>\n",
       "      <td>0.0</td>\n",
       "    </tr>\n",
       "    <tr>\n",
       "      <th>Q002</th>\n",
       "      <td>TP_PRESENCA_LC</td>\n",
       "      <td>0.0</td>\n",
       "      <td>0.0</td>\n",
       "    </tr>\n",
       "    <tr>\n",
       "      <th>Q001</th>\n",
       "      <td>TP_PRESENCA_CH</td>\n",
       "      <td>0.0</td>\n",
       "      <td>0.0</td>\n",
       "    </tr>\n",
       "    <tr>\n",
       "      <th>NU_NOTA_REDACAO</th>\n",
       "      <td>TP_PRESENCA_CN</td>\n",
       "      <td>0.0</td>\n",
       "      <td>0.0</td>\n",
       "    </tr>\n",
       "    <tr>\n",
       "      <th>IN_BAIXA_VISAO</th>\n",
       "      <td>CO_UF_RESIDENCIA</td>\n",
       "      <td>0.0</td>\n",
       "      <td>0.0</td>\n",
       "    </tr>\n",
       "    <tr>\n",
       "      <th>IN_CEGUEIRA</th>\n",
       "      <td>SG_UF_RESIDENCIA</td>\n",
       "      <td>0.0</td>\n",
       "      <td>0.0</td>\n",
       "    </tr>\n",
       "    <tr>\n",
       "      <th>IN_DISCALCULIA</th>\n",
       "      <td>NU_IDADE</td>\n",
       "      <td>0.0</td>\n",
       "      <td>0.0</td>\n",
       "    </tr>\n",
       "    <tr>\n",
       "      <th>IN_DISLEXIA</th>\n",
       "      <td>TP_SEXO</td>\n",
       "      <td>0.0</td>\n",
       "      <td>0.0</td>\n",
       "    </tr>\n",
       "    <tr>\n",
       "      <th>IN_GESTANTE</th>\n",
       "      <td>TP_COR_RACA</td>\n",
       "      <td>0.0</td>\n",
       "      <td>0.0</td>\n",
       "    </tr>\n",
       "    <tr>\n",
       "      <th>IN_IDOSO</th>\n",
       "      <td>TP_NACIONALIDADE</td>\n",
       "      <td>0.0</td>\n",
       "      <td>0.0</td>\n",
       "    </tr>\n",
       "    <tr>\n",
       "      <th>IN_SABATISTA</th>\n",
       "      <td>TP_ST_CONCLUSAO</td>\n",
       "      <td>0.0</td>\n",
       "      <td>0.0</td>\n",
       "    </tr>\n",
       "    <tr>\n",
       "      <th>IN_SURDEZ</th>\n",
       "      <td>TP_ANO_CONCLUIU</td>\n",
       "      <td>0.0</td>\n",
       "      <td>0.0</td>\n",
       "    </tr>\n",
       "    <tr>\n",
       "      <th>IN_TREINEIRO</th>\n",
       "      <td>TP_ESCOLA</td>\n",
       "      <td>NaN</td>\n",
       "      <td>0.0</td>\n",
       "    </tr>\n",
       "    <tr>\n",
       "      <th>NU_IDADE</th>\n",
       "      <td>TP_ENSINO</td>\n",
       "      <td>0.0</td>\n",
       "      <td>0.0</td>\n",
       "    </tr>\n",
       "    <tr>\n",
       "      <th>NU_INSCRICAO</th>\n",
       "      <td>TP_DEPENDENCIA_ADM_ESC</td>\n",
       "      <td>0.0</td>\n",
       "      <td>0.0</td>\n",
       "    </tr>\n",
       "    <tr>\n",
       "      <th>NU_NOTA_CH</th>\n",
       "      <td>IN_BAIXA_VISAO</td>\n",
       "      <td>0.0</td>\n",
       "      <td>0.0</td>\n",
       "    </tr>\n",
       "    <tr>\n",
       "      <th>NU_NOTA_CN</th>\n",
       "      <td>IN_CEGUEIRA</td>\n",
       "      <td>0.0</td>\n",
       "      <td>0.0</td>\n",
       "    </tr>\n",
       "    <tr>\n",
       "      <th>NU_NOTA_COMP1</th>\n",
       "      <td>IN_SURDEZ</td>\n",
       "      <td>0.0</td>\n",
       "      <td>0.0</td>\n",
       "    </tr>\n",
       "    <tr>\n",
       "      <th>NU_NOTA_COMP2</th>\n",
       "      <td>IN_DISLEXIA</td>\n",
       "      <td>0.0</td>\n",
       "      <td>0.0</td>\n",
       "    </tr>\n",
       "    <tr>\n",
       "      <th>NU_NOTA_COMP3</th>\n",
       "      <td>IN_DISCALCULIA</td>\n",
       "      <td>0.0</td>\n",
       "      <td>0.0</td>\n",
       "    </tr>\n",
       "    <tr>\n",
       "      <th>NU_NOTA_COMP4</th>\n",
       "      <td>IN_SABATISTA</td>\n",
       "      <td>0.0</td>\n",
       "      <td>0.0</td>\n",
       "    </tr>\n",
       "    <tr>\n",
       "      <th>NU_NOTA_COMP5</th>\n",
       "      <td>IN_GESTANTE</td>\n",
       "      <td>0.0</td>\n",
       "      <td>0.0</td>\n",
       "    </tr>\n",
       "    <tr>\n",
       "      <th>NU_NOTA_LC</th>\n",
       "      <td>IN_IDOSO</td>\n",
       "      <td>0.0</td>\n",
       "      <td>0.0</td>\n",
       "    </tr>\n",
       "    <tr>\n",
       "      <th>TP_STATUS_REDACAO</th>\n",
       "      <td>Q047</td>\n",
       "      <td>0.0</td>\n",
       "      <td>0.0</td>\n",
       "    </tr>\n",
       "    <tr>\n",
       "      <th>TP_ST_CONCLUSAO</th>\n",
       "      <td>IN_TREINEIRO</td>\n",
       "      <td>0.0</td>\n",
       "      <td>0.0</td>\n",
       "    </tr>\n",
       "  </tbody>\n",
       "</table>\n",
       "</div>"
      ],
      "text/plain": [
       "                                   column_name  percent_missing_test  \\\n",
       "CO_UF_RESIDENCIA                  NU_INSCRICAO                   0.0   \n",
       "Q024                                NU_NOTA_CN                   0.0   \n",
       "Q025                                NU_NOTA_CH                   0.0   \n",
       "Q026                                NU_NOTA_LC                   0.0   \n",
       "Q027                                 TP_LINGUA                   0.0   \n",
       "Q047                         TP_STATUS_REDACAO                   0.0   \n",
       "SG_UF_RESIDENCIA                 NU_NOTA_COMP1                   0.0   \n",
       "TP_ANO_CONCLUIU                  NU_NOTA_COMP2                   0.0   \n",
       "TP_COR_RACA                      NU_NOTA_COMP3                   0.0   \n",
       "Q006                            TP_PRESENCA_MT                   0.0   \n",
       "TP_DEPENDENCIA_ADM_ESC           NU_NOTA_COMP4                   0.0   \n",
       "TP_ESCOLA                      NU_NOTA_REDACAO                   0.0   \n",
       "TP_LINGUA                                 Q001                   0.0   \n",
       "TP_NACIONALIDADE                          Q002                   0.0   \n",
       "TP_PRESENCA_CH                            Q006                   0.0   \n",
       "TP_PRESENCA_CN                            Q024                   0.0   \n",
       "TP_PRESENCA_LC                            Q025                   0.0   \n",
       "TP_PRESENCA_MT                            Q026                   0.0   \n",
       "TP_SEXO                                   Q027                   0.0   \n",
       "TP_ENSINO                        NU_NOTA_COMP5                   0.0   \n",
       "Q002                            TP_PRESENCA_LC                   0.0   \n",
       "Q001                            TP_PRESENCA_CH                   0.0   \n",
       "NU_NOTA_REDACAO                 TP_PRESENCA_CN                   0.0   \n",
       "IN_BAIXA_VISAO                CO_UF_RESIDENCIA                   0.0   \n",
       "IN_CEGUEIRA                   SG_UF_RESIDENCIA                   0.0   \n",
       "IN_DISCALCULIA                        NU_IDADE                   0.0   \n",
       "IN_DISLEXIA                            TP_SEXO                   0.0   \n",
       "IN_GESTANTE                        TP_COR_RACA                   0.0   \n",
       "IN_IDOSO                      TP_NACIONALIDADE                   0.0   \n",
       "IN_SABATISTA                   TP_ST_CONCLUSAO                   0.0   \n",
       "IN_SURDEZ                      TP_ANO_CONCLUIU                   0.0   \n",
       "IN_TREINEIRO                         TP_ESCOLA                   NaN   \n",
       "NU_IDADE                             TP_ENSINO                   0.0   \n",
       "NU_INSCRICAO            TP_DEPENDENCIA_ADM_ESC                   0.0   \n",
       "NU_NOTA_CH                      IN_BAIXA_VISAO                   0.0   \n",
       "NU_NOTA_CN                         IN_CEGUEIRA                   0.0   \n",
       "NU_NOTA_COMP1                        IN_SURDEZ                   0.0   \n",
       "NU_NOTA_COMP2                      IN_DISLEXIA                   0.0   \n",
       "NU_NOTA_COMP3                   IN_DISCALCULIA                   0.0   \n",
       "NU_NOTA_COMP4                     IN_SABATISTA                   0.0   \n",
       "NU_NOTA_COMP5                      IN_GESTANTE                   0.0   \n",
       "NU_NOTA_LC                            IN_IDOSO                   0.0   \n",
       "TP_STATUS_REDACAO                         Q047                   0.0   \n",
       "TP_ST_CONCLUSAO                   IN_TREINEIRO                   0.0   \n",
       "\n",
       "                        percent_missing_train  \n",
       "CO_UF_RESIDENCIA                          0.0  \n",
       "Q024                                      0.0  \n",
       "Q025                                      0.0  \n",
       "Q026                                      0.0  \n",
       "Q027                                      0.0  \n",
       "Q047                                      0.0  \n",
       "SG_UF_RESIDENCIA                          0.0  \n",
       "TP_ANO_CONCLUIU                           0.0  \n",
       "TP_COR_RACA                               0.0  \n",
       "Q006                                      0.0  \n",
       "TP_DEPENDENCIA_ADM_ESC                    0.0  \n",
       "TP_ESCOLA                                 0.0  \n",
       "TP_LINGUA                                 0.0  \n",
       "TP_NACIONALIDADE                          0.0  \n",
       "TP_PRESENCA_CH                            0.0  \n",
       "TP_PRESENCA_CN                            0.0  \n",
       "TP_PRESENCA_LC                            0.0  \n",
       "TP_PRESENCA_MT                            0.0  \n",
       "TP_SEXO                                   0.0  \n",
       "TP_ENSINO                                 0.0  \n",
       "Q002                                      0.0  \n",
       "Q001                                      0.0  \n",
       "NU_NOTA_REDACAO                           0.0  \n",
       "IN_BAIXA_VISAO                            0.0  \n",
       "IN_CEGUEIRA                               0.0  \n",
       "IN_DISCALCULIA                            0.0  \n",
       "IN_DISLEXIA                               0.0  \n",
       "IN_GESTANTE                               0.0  \n",
       "IN_IDOSO                                  0.0  \n",
       "IN_SABATISTA                              0.0  \n",
       "IN_SURDEZ                                 0.0  \n",
       "IN_TREINEIRO                              0.0  \n",
       "NU_IDADE                                  0.0  \n",
       "NU_INSCRICAO                              0.0  \n",
       "NU_NOTA_CH                                0.0  \n",
       "NU_NOTA_CN                                0.0  \n",
       "NU_NOTA_COMP1                             0.0  \n",
       "NU_NOTA_COMP2                             0.0  \n",
       "NU_NOTA_COMP3                             0.0  \n",
       "NU_NOTA_COMP4                             0.0  \n",
       "NU_NOTA_COMP5                             0.0  \n",
       "NU_NOTA_LC                                0.0  \n",
       "TP_STATUS_REDACAO                         0.0  \n",
       "TP_ST_CONCLUSAO                           0.0  "
      ]
     },
     "execution_count": 25,
     "metadata": {},
     "output_type": "execute_result"
    }
   ],
   "source": [
    "ms = missing_values(df_training,df_test)\n",
    "ms"
   ]
  },
  {
   "cell_type": "code",
   "execution_count": 0,
   "metadata": {
    "colab": {},
    "colab_type": "code",
    "id": "mZxyhUaX6NqQ"
   },
   "outputs": [],
   "source": [
    "#lb_make = LabelEncoder()\n",
    "#df_training[\"NU_INSCRICAO\"] = lb_make.fit_transform(df_training[\"NU_INSCRICAO\"])\n",
    "#df_test[\"NU_INSCRICAO\"] = lb_make.fit_transform(df_test[\"NU_INSCRICAO\"])"
   ]
  },
  {
   "cell_type": "markdown",
   "metadata": {
    "colab_type": "text",
    "id": "N9m6MMzc0w9j"
   },
   "source": [
    "## **Modelo**"
   ]
  },
  {
   "cell_type": "markdown",
   "metadata": {
    "colab_type": "text",
    "id": "u2ILQpQt4ecv"
   },
   "source": [
    "### **KNeighborsClassifier**"
   ]
  },
  {
   "cell_type": "code",
   "execution_count": 62,
   "metadata": {
    "colab": {},
    "colab_type": "code",
    "id": "mZPrub22yuHw"
   },
   "outputs": [],
   "source": [
    "X = df_training\n",
    "y = df_training['IN_TREINEIRO']\n",
    "\n",
    "X = X.drop(['IN_TREINEIRO'],axis=1)\n",
    "X = X.drop(['NU_INSCRICAO'],axis=1)\n",
    "\n",
    "from sklearn.model_selection import train_test_split\n",
    "X_train, X_test, y_train, y_test = train_test_split(X, y, random_state=1)"
   ]
  },
  {
   "cell_type": "code",
   "execution_count": 63,
   "metadata": {
    "colab": {
     "base_uri": "https://localhost:8080/",
     "height": 34
    },
    "colab_type": "code",
    "id": "LG2rAmf0zF71",
    "outputId": "209b1bd5-1dc4-4cf1-b6ef-5e5ee47789d6"
   },
   "outputs": [
    {
     "data": {
      "text/plain": [
       "LinearRegression(copy_X=True, fit_intercept=True, n_jobs=None,\n",
       "         normalize=False)"
      ]
     },
     "execution_count": 63,
     "metadata": {},
     "output_type": "execute_result"
    }
   ],
   "source": [
    "from sklearn.linear_model import LinearRegression\n",
    "linreg = LinearRegression()\n",
    "linreg.fit(X_train, y_train)"
   ]
  },
  {
   "cell_type": "code",
   "execution_count": 84,
   "metadata": {},
   "outputs": [
    {
     "data": {
      "text/plain": [
       "KNeighborsClassifier(algorithm='auto', leaf_size=30, metric='minkowski',\n",
       "           metric_params=None, n_jobs=None, n_neighbors=1, p=2,\n",
       "           weights='uniform')"
      ]
     },
     "execution_count": 84,
     "metadata": {},
     "output_type": "execute_result"
    }
   ],
   "source": [
    "from sklearn.neighbors import KNeighborsClassifier\n",
    "knn = KNeighborsClassifier(n_neighbors = 1)\n",
    "\n",
    "knn.fit(X_train,y_train)"
   ]
  },
  {
   "cell_type": "code",
   "execution_count": 85,
   "metadata": {
    "colab": {},
    "colab_type": "code",
    "id": "DTzqYVzNzMYu"
   },
   "outputs": [],
   "source": [
    "y_pred = knn.predict(X_test)"
   ]
  },
  {
   "cell_type": "code",
   "execution_count": 86,
   "metadata": {
    "colab": {
     "base_uri": "https://localhost:8080/",
     "height": 34
    },
    "colab_type": "code",
    "id": "LJPzNzs0zgGG",
    "outputId": "6af7be3a-2058-4be5-8a3f-c8ff5a72683b"
   },
   "outputs": [
    {
     "name": "stdout",
     "output_type": "stream",
     "text": [
      "0.21588530901209396\n"
     ]
    }
   ],
   "source": [
    "from sklearn import metrics\n",
    "from sklearn.metrics import mean_squared_error\n",
    "\n",
    "print(np.sqrt(metrics.mean_squared_error(y_test, y_pred)))"
   ]
  },
  {
   "cell_type": "markdown",
   "metadata": {
    "colab_type": "text",
    "id": "ddkPgNLRCY5d"
   },
   "source": [
    "#### **Submission**"
   ]
  },
  {
   "cell_type": "code",
   "execution_count": 107,
   "metadata": {
    "colab": {
     "base_uri": "https://localhost:8080/",
     "height": 34
    },
    "colab_type": "code",
    "id": "CxiGe9KhCIez",
    "outputId": "9cf6d279-9f80-4638-b4d9-a46ed9cd5ea7"
   },
   "outputs": [
    {
     "data": {
      "text/plain": [
       "(4570, 43)"
      ]
     },
     "execution_count": 107,
     "metadata": {},
     "output_type": "execute_result"
    }
   ],
   "source": [
    "df_test.shape"
   ]
  },
  {
   "cell_type": "code",
   "execution_count": 108,
   "metadata": {
    "colab": {},
    "colab_type": "code",
    "id": "t1otglt5AXW6"
   },
   "outputs": [],
   "source": [
    "df = df_test.drop(['NU_INSCRICAO',],axis=1)\n",
    "pred = knn.predict(df)"
   ]
  },
  {
   "cell_type": "code",
   "execution_count": 109,
   "metadata": {
    "colab": {
     "base_uri": "https://localhost:8080/",
     "height": 34
    },
    "colab_type": "code",
    "id": "G4oaLS_QBu8V",
    "outputId": "525e2151-100a-4503-ace0-0b09d4705b9b"
   },
   "outputs": [
    {
     "data": {
      "text/plain": [
       "(4570L,)"
      ]
     },
     "execution_count": 109,
     "metadata": {},
     "output_type": "execute_result"
    }
   ],
   "source": [
    "sub= pd.Series(pred, index=df_test['NU_INSCRICAO'].astype(np.str), name='IN_TREINEIRO')\n",
    "sub.shape"
   ]
  },
  {
   "cell_type": "code",
   "execution_count": 110,
   "metadata": {
    "colab": {
     "base_uri": "https://localhost:8080/",
     "height": 138
    },
    "colab_type": "code",
    "id": "KPIEMIZxCQs7",
    "outputId": "67eabcde-56e8-4e5b-eec6-d1b873fdb2db",
    "scrolled": true
   },
   "outputs": [
    {
     "data": {
      "text/plain": [
       "NU_INSCRICAO\n",
       "ba0cc30ba34e7a46764c09dfc38ed83d15828897    0\n",
       "177f281c68fa032aedbd842a745da68490926cd2    0\n",
       "6cf0d8b97597d7625cdedc7bdb6c0f052286c334    1\n",
       "5c356d810fa57671402502cd0933e5601a2ebf1e    0\n",
       "df47c07bd881c2db3f38c6048bf77c132ad0ceb3    0\n",
       "Name: IN_TREINEIRO, dtype: int64"
      ]
     },
     "execution_count": 110,
     "metadata": {},
     "output_type": "execute_result"
    }
   ],
   "source": [
    "sub.head()"
   ]
  },
  {
   "cell_type": "markdown",
   "metadata": {
    "colab_type": "text",
    "id": "T7wt7Eny8k96"
   },
   "source": [
    "#### **Submission**\n"
   ]
  },
  {
   "cell_type": "code",
   "execution_count": 113,
   "metadata": {},
   "outputs": [],
   "source": [
    "sub.to_csv(\"answer.csv\", header=True)"
   ]
  }
 ],
 "metadata": {
  "colab": {
   "name": "codanation.ipynb",
   "provenance": []
  },
  "kernelspec": {
   "display_name": "Python 2",
   "language": "python",
   "name": "python2"
  },
  "language_info": {
   "codemirror_mode": {
    "name": "ipython",
    "version": 2
   },
   "file_extension": ".py",
   "mimetype": "text/x-python",
   "name": "python",
   "nbconvert_exporter": "python",
   "pygments_lexer": "ipython2",
   "version": "2.7.16"
  }
 },
 "nbformat": 4,
 "nbformat_minor": 1
}
